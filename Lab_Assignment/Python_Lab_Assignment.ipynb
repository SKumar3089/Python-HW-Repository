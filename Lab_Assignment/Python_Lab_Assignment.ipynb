{
 "cells": [
  {
   "cell_type": "markdown",
   "metadata": {},
   "source": [
    "# PyCity Schools Analysis\n",
    "\n",
    "* As a whole, schools with higher budgets, did not yield better test results. By contrast, schools with higher spending per student actually (\\\\$645 - 675) underperformed compared to schools with smaller budgets (\\\\$585 per student).\n",
    "\n",
    "* As a whole, smaller and medium sized schools dramatically out-performed large sized schools on passing math performances (89-91% passing vs 67%).\n",
    "\n",
    "* As a whole, charter schools out-performed the public district schools across all metrics. However, more analysis will be required to glean if the effect is due to school practices or the fact that charter schools tend to serve smaller student populations per school. \n",
    "---"
   ]
  },
  {
   "cell_type": "markdown",
   "metadata": {},
   "source": [
    "**Note:**\n",
    "Instructions have been included for each segment. You do not have to follow them exactly, but they are included to help you think through the steps."
   ]
  },
  {
   "cell_type": "code",
   "execution_count": 651,
   "metadata": {
    "ExecuteTime": {
     "end_time": "2022-08-06T06:08:31.925112Z",
     "start_time": "2022-08-06T06:08:29.337754Z"
    }
   },
   "outputs": [
    {
     "name": "stdout",
     "output_type": "stream",
     "text": [
      "/Users/shaunkumar/Desktop/DS311/Python-HW-Repository/Lab_Assignment\n"
     ]
    }
   ],
   "source": [
    "# Dependencies and Setup\n",
    "import pandas as pd\n",
    "import numpy as np\n",
    "import sqlite3\n",
    "import os\n",
    "\n",
    "\n",
    "current_directory = os.getcwd()\n",
    "print(current_directory)\n",
    "\n",
    "# loading data from python.db database\n",
    "con = sqlite3.connect(r'./data/python.db')\n",
    "\n",
    "# import 'school' and 'student' tables into pandas dataframe\n",
    "school_data = pd.read_sql('SELECT * FROM school', con)\n",
    "student_data = pd.read_sql('SELECT * FROM student', con)\n"
   ]
  },
  {
   "cell_type": "code",
   "execution_count": 653,
   "metadata": {
    "scrolled": true
   },
   "outputs": [
    {
     "data": {
      "text/html": [
       "<div>\n",
       "<style scoped>\n",
       "    .dataframe tbody tr th:only-of-type {\n",
       "        vertical-align: middle;\n",
       "    }\n",
       "\n",
       "    .dataframe tbody tr th {\n",
       "        vertical-align: top;\n",
       "    }\n",
       "\n",
       "    .dataframe thead th {\n",
       "        text-align: right;\n",
       "    }\n",
       "</style>\n",
       "<table border=\"1\" class=\"dataframe\">\n",
       "  <thead>\n",
       "    <tr style=\"text-align: right;\">\n",
       "      <th></th>\n",
       "      <th>id_x</th>\n",
       "      <th>Student ID</th>\n",
       "      <th>student_name</th>\n",
       "      <th>gender</th>\n",
       "      <th>grade</th>\n",
       "      <th>school_name</th>\n",
       "      <th>reading_score</th>\n",
       "      <th>math_score</th>\n",
       "      <th>id_y</th>\n",
       "      <th>School ID</th>\n",
       "      <th>type</th>\n",
       "      <th>size</th>\n",
       "      <th>budget</th>\n",
       "    </tr>\n",
       "  </thead>\n",
       "  <tbody>\n",
       "    <tr>\n",
       "      <th>0</th>\n",
       "      <td>0</td>\n",
       "      <td>0</td>\n",
       "      <td>Paul Bradley</td>\n",
       "      <td>M</td>\n",
       "      <td>9th</td>\n",
       "      <td>Huang High School</td>\n",
       "      <td>66</td>\n",
       "      <td>79</td>\n",
       "      <td>0</td>\n",
       "      <td>0</td>\n",
       "      <td>District</td>\n",
       "      <td>2917</td>\n",
       "      <td>1910635</td>\n",
       "    </tr>\n",
       "    <tr>\n",
       "      <th>1</th>\n",
       "      <td>1</td>\n",
       "      <td>1</td>\n",
       "      <td>Victor Smith</td>\n",
       "      <td>M</td>\n",
       "      <td>12th</td>\n",
       "      <td>Huang High School</td>\n",
       "      <td>94</td>\n",
       "      <td>61</td>\n",
       "      <td>0</td>\n",
       "      <td>0</td>\n",
       "      <td>District</td>\n",
       "      <td>2917</td>\n",
       "      <td>1910635</td>\n",
       "    </tr>\n",
       "    <tr>\n",
       "      <th>2</th>\n",
       "      <td>2</td>\n",
       "      <td>2</td>\n",
       "      <td>Kevin Rodriguez</td>\n",
       "      <td>M</td>\n",
       "      <td>12th</td>\n",
       "      <td>Huang High School</td>\n",
       "      <td>90</td>\n",
       "      <td>60</td>\n",
       "      <td>0</td>\n",
       "      <td>0</td>\n",
       "      <td>District</td>\n",
       "      <td>2917</td>\n",
       "      <td>1910635</td>\n",
       "    </tr>\n",
       "    <tr>\n",
       "      <th>3</th>\n",
       "      <td>3</td>\n",
       "      <td>3</td>\n",
       "      <td>Dr. Richard Scott</td>\n",
       "      <td>M</td>\n",
       "      <td>12th</td>\n",
       "      <td>Huang High School</td>\n",
       "      <td>67</td>\n",
       "      <td>58</td>\n",
       "      <td>0</td>\n",
       "      <td>0</td>\n",
       "      <td>District</td>\n",
       "      <td>2917</td>\n",
       "      <td>1910635</td>\n",
       "    </tr>\n",
       "    <tr>\n",
       "      <th>4</th>\n",
       "      <td>4</td>\n",
       "      <td>4</td>\n",
       "      <td>Bonnie Ray</td>\n",
       "      <td>F</td>\n",
       "      <td>9th</td>\n",
       "      <td>Huang High School</td>\n",
       "      <td>97</td>\n",
       "      <td>84</td>\n",
       "      <td>0</td>\n",
       "      <td>0</td>\n",
       "      <td>District</td>\n",
       "      <td>2917</td>\n",
       "      <td>1910635</td>\n",
       "    </tr>\n",
       "  </tbody>\n",
       "</table>\n",
       "</div>"
      ],
      "text/plain": [
       "   id_x  Student ID       student_name gender grade        school_name  \\\n",
       "0     0           0       Paul Bradley      M   9th  Huang High School   \n",
       "1     1           1       Victor Smith      M  12th  Huang High School   \n",
       "2     2           2    Kevin Rodriguez      M  12th  Huang High School   \n",
       "3     3           3  Dr. Richard Scott      M  12th  Huang High School   \n",
       "4     4           4         Bonnie Ray      F   9th  Huang High School   \n",
       "\n",
       "   reading_score  math_score  id_y  School ID      type  size   budget  \n",
       "0             66          79     0          0  District  2917  1910635  \n",
       "1             94          61     0          0  District  2917  1910635  \n",
       "2             90          60     0          0  District  2917  1910635  \n",
       "3             67          58     0          0  District  2917  1910635  \n",
       "4             97          84     0          0  District  2917  1910635  "
      ]
     },
     "execution_count": 653,
     "metadata": {},
     "output_type": "execute_result"
    }
   ],
   "source": [
    "# join the two tables into a single dataframe\n",
    "school_data_complete = pd.merge(student_data, school_data, how=\"left\", on=[\"school_name\", \"school_name\"])\n",
    "school_data_complete.head()"
   ]
  },
  {
   "cell_type": "markdown",
   "metadata": {},
   "source": [
    "## District Summary\n",
    "\n",
    "* Calculate the total number of schools\n",
    "\n",
    "* Calculate the total number of students\n",
    "\n",
    "* Calculate the total budget\n",
    "\n",
    "* Calculate the average math score \n",
    "\n",
    "* Calculate the average reading score\n",
    "\n",
    "* Calculate the overall passing rate (overall average score), i.e. (avg. math score + avg. reading score)/2\n",
    "\n",
    "* Calculate the percentage of students with a passing math score (70 or greater)\n",
    "\n",
    "* Calculate the percentage of students with a passing reading score (70 or greater)\n",
    "\n",
    "* Create a dataframe to hold the above results\n",
    "\n",
    "* Optional: give the displayed data cleaner formatting"
   ]
  },
  {
   "cell_type": "code",
   "execution_count": 656,
   "metadata": {},
   "outputs": [
    {
     "name": "stdout",
     "output_type": "stream",
     "text": [
      "          student_count  school_count  total_budget  average_math_score  \\\n",
      "type                                                                      \n",
      "Charter           12194             8   12493275585           83.406183   \n",
      "District          26976             7   70439053973           76.987026   \n",
      "\n",
      "          average_reading_score  overall_average_score  \\\n",
      "type                                                     \n",
      "Charter               83.902821              83.654502   \n",
      "District              80.962485              78.974755   \n",
      "\n",
      "          passing_percentage_math  passing_percentage_reading  \n",
      "type                                                           \n",
      "Charter                 93.701821                   96.645891  \n",
      "District                66.518387                   80.905249  \n"
     ]
    }
   ],
   "source": [
    "# Create a District Summary\n",
    "district_summary = school_data_complete.groupby('type').agg(\n",
    "    student_count=('Student ID', 'count'),              # Count of students\n",
    "    school_count=('School ID', 'nunique'),              # Count of unique schools\n",
    "    total_budget=('budget', 'sum'),\n",
    "    average_math_score=('math_score', 'mean'),\n",
    "    average_reading_score=('reading_score', 'mean'),\n",
    ")\n",
    "district_summary['overall_average_score'] = (district_summary['average_math_score'] + district_summary['average_reading_score']) / 2\n",
    "\n",
    "passing_students_math = school_data_complete[school_data_complete['math_score'] >= 70]\n",
    "passing_students_math_count = passing_students_math.groupby('type')['Student ID'].count()\n",
    "district_summary['passing_percentage_math'] = (passing_students_math_count / district_summary['student_count']) * 100\n",
    "\n",
    "passing_students_reading = school_data_complete[school_data_complete['reading_score'] >= 70]\n",
    "passing_students_reading_count = passing_students_reading.groupby('type')['Student ID'].count()\n",
    "district_summary['passing_percentage_reading'] = (passing_students_reading_count / district_summary['student_count']) * 100\n",
    "\n",
    "print(district_summary)"
   ]
  },
  {
   "cell_type": "code",
   "execution_count": 658,
   "metadata": {},
   "outputs": [
    {
     "name": "stdout",
     "output_type": "stream",
     "text": [
      "Total number of schools is: 15\n"
     ]
    }
   ],
   "source": [
    "# Total number of schools\n",
    "total_schools = school_data['School ID'].nunique()  \n",
    "\n",
    "# Print the result\n",
    "print(f\"Total number of schools is: {total_schools}\")\n",
    "\n"
   ]
  },
  {
   "cell_type": "code",
   "execution_count": 660,
   "metadata": {},
   "outputs": [
    {
     "name": "stdout",
     "output_type": "stream",
     "text": [
      "Total number of schools is: 39170\n"
     ]
    }
   ],
   "source": [
    "# Total number of students\n",
    "total_students = student_data['Student ID'].nunique()  \n",
    "\n",
    "# Print the result\n",
    "print(f\"Total number of schools is: {total_students}\")\n"
   ]
  },
  {
   "cell_type": "code",
   "execution_count": 662,
   "metadata": {},
   "outputs": [
    {
     "name": "stdout",
     "output_type": "stream",
     "text": [
      "Total budget of the district is: $24649428\n"
     ]
    }
   ],
   "source": [
    "# Total budget\n",
    "total_budget = school_data['budget'].sum()  \n",
    "\n",
    "# Print the result\n",
    "print(f\"Total budget of the district is: ${total_budget}\")\n",
    "\n"
   ]
  },
  {
   "cell_type": "code",
   "execution_count": 664,
   "metadata": {},
   "outputs": [
    {
     "name": "stdout",
     "output_type": "stream",
     "text": [
      "Average Math Score of the district is: 78.98537145774827\n"
     ]
    }
   ],
   "source": [
    "# Average math score\n",
    "avg_math_score = student_data['math_score'].mean()  \n",
    "\n",
    "# Print the result\n",
    "print(f\"Average Math Score of the district is: {avg_math_score}\")\n",
    "\n",
    "\n"
   ]
  },
  {
   "cell_type": "code",
   "execution_count": 666,
   "metadata": {},
   "outputs": [
    {
     "name": "stdout",
     "output_type": "stream",
     "text": [
      "Average Reading Score of the district is: 81.87784018381414\n"
     ]
    }
   ],
   "source": [
    "# Average reading score\n",
    "avg_reading_score = student_data['reading_score'].mean()  \n",
    "\n",
    "# Print the result\n",
    "print(f\"Average Reading Score of the district is: {avg_reading_score}\")\n",
    "\n"
   ]
  },
  {
   "cell_type": "code",
   "execution_count": 668,
   "metadata": {},
   "outputs": [
    {
     "name": "stdout",
     "output_type": "stream",
     "text": [
      "Overall Average Score of the district is: 80.43160582078121\n"
     ]
    }
   ],
   "source": [
    "# Overall average score\n",
    "overall_avg_score = (avg_math_score + avg_reading_score) / 2\n",
    "\n",
    "# Print the result\n",
    "print(f\"Overall Average Score of the district is: {overall_avg_score}\")\n",
    "\n"
   ]
  },
  {
   "cell_type": "code",
   "execution_count": 670,
   "metadata": {},
   "outputs": [
    {
     "name": "stdout",
     "output_type": "stream",
     "text": [
      "Percentage of Students Passing Math in the District is: 74.9808526933878%\n"
     ]
    }
   ],
   "source": [
    "# Percentage of passing math (70 or greater)\n",
    "# Count the number of students who have a math score of 70 or greater\n",
    "passing_students_math = student_data[student_data['math_score'] >= 70]\n",
    "\n",
    "# Calculate the number of passing students\n",
    "num_passing_math_students = passing_students_math.shape[0]\n",
    "\n",
    "# Calculate the total number of students\n",
    "total_students = student_data.shape[0]\n",
    "\n",
    "#Calculate the percentage of passing students\n",
    "passing_math_percentage = (num_passing_math_students / total_students) * 100\n",
    "\n",
    "# Print the result\n",
    "print(f\"Percentage of Students Passing Math in the District is: {passing_math_percentage}%\")"
   ]
  },
  {
   "cell_type": "markdown",
   "metadata": {},
   "source": [
    "## School Summary"
   ]
  },
  {
   "cell_type": "markdown",
   "metadata": {},
   "source": [
    "* Create an overview table that summarizes key metrics about each school, including:\n",
    "  * School Name\n",
    "  * School Type\n",
    "  * Total Students\n",
    "  * Total School Budget\n",
    "  * Per Student Budget\n",
    "  * Average Math Score\n",
    "  * Average Reading Score\n",
    "  * % Passing Math\n",
    "  * % Passing Reading\n",
    "  * Overall Passing Rate (Average of the above two)\n",
    "  \n",
    "* Create a dataframe to hold the above results"
   ]
  },
  {
   "cell_type": "markdown",
   "metadata": {},
   "source": [
    "### Top Performing Schools (By Passing Rate)"
   ]
  },
  {
   "cell_type": "markdown",
   "metadata": {},
   "source": [
    "* Sort and display the top five schools in overall passing rate"
   ]
  },
  {
   "cell_type": "code",
   "execution_count": 676,
   "metadata": {},
   "outputs": [
    {
     "data": {
      "text/html": [
       "<div>\n",
       "<style scoped>\n",
       "    .dataframe tbody tr th:only-of-type {\n",
       "        vertical-align: middle;\n",
       "    }\n",
       "\n",
       "    .dataframe tbody tr th {\n",
       "        vertical-align: top;\n",
       "    }\n",
       "\n",
       "    .dataframe thead th {\n",
       "        text-align: right;\n",
       "    }\n",
       "</style>\n",
       "<table border=\"1\" class=\"dataframe\">\n",
       "  <thead>\n",
       "    <tr style=\"text-align: right;\">\n",
       "      <th></th>\n",
       "      <th>passing_percentage</th>\n",
       "    </tr>\n",
       "    <tr>\n",
       "      <th>school_name</th>\n",
       "      <th></th>\n",
       "    </tr>\n",
       "  </thead>\n",
       "  <tbody>\n",
       "    <tr>\n",
       "      <th>Cabrera High School</th>\n",
       "      <td>91.334769</td>\n",
       "    </tr>\n",
       "    <tr>\n",
       "      <th>Thomas High School</th>\n",
       "      <td>90.948012</td>\n",
       "    </tr>\n",
       "    <tr>\n",
       "      <th>Griffin High School</th>\n",
       "      <td>90.599455</td>\n",
       "    </tr>\n",
       "    <tr>\n",
       "      <th>Wilson High School</th>\n",
       "      <td>90.582567</td>\n",
       "    </tr>\n",
       "    <tr>\n",
       "      <th>Pena High School</th>\n",
       "      <td>90.540541</td>\n",
       "    </tr>\n",
       "  </tbody>\n",
       "</table>\n",
       "</div>"
      ],
      "text/plain": [
       "                     passing_percentage\n",
       "school_name                            \n",
       "Cabrera High School           91.334769\n",
       "Thomas High School            90.948012\n",
       "Griffin High School           90.599455\n",
       "Wilson High School            90.582567\n",
       "Pena High School              90.540541"
      ]
     },
     "metadata": {},
     "output_type": "display_data"
    }
   ],
   "source": [
    "#  Sort and display the top five schools in overall passing rate\n",
    "# Calculate the passing percentage for math and reading for each student\n",
    "student_data['passing_math'] = student_data['math_score'] >= 70\n",
    "student_data['passing_reading'] = student_data['reading_score'] >= 70\n",
    "\n",
    "# Calculate overall passing rate by combining math and reading passing rates\n",
    "student_data['overall_passing'] = (student_data['passing_math'] & student_data['passing_reading'])\n",
    "\n",
    "# Group by 'school_name' and calculate the overall passing percentage for each school\n",
    "school_passing_rates = student_data.groupby('school_name').agg(\n",
    "    total_students=('Student ID', 'count'),\n",
    "    passing_students=('overall_passing', 'sum')\n",
    ")\n",
    "\n",
    "# Calculate the overall passing percentage for each school\n",
    "school_passing_rates['passing_percentage'] = (school_passing_rates['passing_students'] / school_passing_rates['total_students']) * 100\n",
    "\n",
    "# Sort the schools by passing percentage in descending order and display the top 5\n",
    "top_5_schools = school_passing_rates.sort_values(by='passing_percentage', ascending=False).head(5)\n",
    "\n",
    "# Print the top 5 schools based on overall passing rate\n",
    "display(top_5_schools[['passing_percentage']])\n"
   ]
  },
  {
   "cell_type": "code",
   "execution_count": 678,
   "metadata": {
    "scrolled": true
   },
   "outputs": [
    {
     "name": "stdout",
     "output_type": "stream",
     "text": [
      "school_name\n",
      "Bailey High School       3124928\n",
      "Cabrera High School      1081356\n",
      "Figueroa High School     1884411\n",
      "Ford High School         1763916\n",
      "Griffin High School       917500\n",
      "Hernandez High School    3022020\n",
      "Holden High School        248087\n",
      "Huang High School        1910635\n",
      "Johnson High School      3094650\n",
      "Pena High School          585858\n",
      "Rodriguez High School    2547363\n",
      "Shelton High School      1056600\n",
      "Thomas High School       1043130\n",
      "Wilson High School       1319574\n",
      "Wright High School       1049400\n",
      "Name: budget, dtype: int64\n"
     ]
    }
   ],
   "source": [
    "# Calculate the total budget for each school\n",
    "total_school_budgets = school_data.groupby('school_name')['budget'].sum()\n",
    "\n",
    "# Print the total budgets for each school\n",
    "print(total_school_budgets)\n"
   ]
  },
  {
   "cell_type": "code",
   "execution_count": 680,
   "metadata": {},
   "outputs": [
    {
     "name": "stdout",
     "output_type": "stream",
     "text": [
      "school_name\n",
      "Bailey High School       628.0\n",
      "Cabrera High School      582.0\n",
      "Figueroa High School     639.0\n",
      "Ford High School         644.0\n",
      "Griffin High School      625.0\n",
      "Hernandez High School    652.0\n",
      "Holden High School       581.0\n",
      "Huang High School        655.0\n",
      "Johnson High School      650.0\n",
      "Pena High School         609.0\n",
      "Rodriguez High School    637.0\n",
      "Shelton High School      600.0\n",
      "Thomas High School       638.0\n",
      "Wilson High School       578.0\n",
      "Wright High School       583.0\n",
      "dtype: float64\n"
     ]
    }
   ],
   "source": [
    "# Calculate per student budget\n",
    "\n",
    "# Calculate the total number of students in each school\n",
    "students_per_school = school_data.groupby('school_name')['size'].sum()\n",
    "\n",
    "# Calculate the per student budget for each school\n",
    "per_student_budget = total_school_budgets / students_per_school\n",
    "\n",
    "# Print the per student budget for each school\n",
    "print(per_student_budget)\n",
    "\n",
    "\n"
   ]
  },
  {
   "cell_type": "code",
   "execution_count": 682,
   "metadata": {},
   "outputs": [
    {
     "data": {
      "text/html": [
       "<div>\n",
       "<style scoped>\n",
       "    .dataframe tbody tr th:only-of-type {\n",
       "        vertical-align: middle;\n",
       "    }\n",
       "\n",
       "    .dataframe tbody tr th {\n",
       "        vertical-align: top;\n",
       "    }\n",
       "\n",
       "    .dataframe thead th {\n",
       "        text-align: right;\n",
       "    }\n",
       "</style>\n",
       "<table border=\"1\" class=\"dataframe\">\n",
       "  <thead>\n",
       "    <tr style=\"text-align: right;\">\n",
       "      <th></th>\n",
       "      <th>average_math_score</th>\n",
       "      <th>average_reading_score</th>\n",
       "    </tr>\n",
       "    <tr>\n",
       "      <th>school_name</th>\n",
       "      <th></th>\n",
       "      <th></th>\n",
       "    </tr>\n",
       "  </thead>\n",
       "  <tbody>\n",
       "    <tr>\n",
       "      <th>Bailey High School</th>\n",
       "      <td>77.048432</td>\n",
       "      <td>81.033963</td>\n",
       "    </tr>\n",
       "    <tr>\n",
       "      <th>Cabrera High School</th>\n",
       "      <td>83.061895</td>\n",
       "      <td>83.975780</td>\n",
       "    </tr>\n",
       "    <tr>\n",
       "      <th>Figueroa High School</th>\n",
       "      <td>76.711767</td>\n",
       "      <td>81.158020</td>\n",
       "    </tr>\n",
       "    <tr>\n",
       "      <th>Ford High School</th>\n",
       "      <td>77.102592</td>\n",
       "      <td>80.746258</td>\n",
       "    </tr>\n",
       "    <tr>\n",
       "      <th>Griffin High School</th>\n",
       "      <td>83.351499</td>\n",
       "      <td>83.816757</td>\n",
       "    </tr>\n",
       "    <tr>\n",
       "      <th>Hernandez High School</th>\n",
       "      <td>77.289752</td>\n",
       "      <td>80.934412</td>\n",
       "    </tr>\n",
       "    <tr>\n",
       "      <th>Holden High School</th>\n",
       "      <td>83.803279</td>\n",
       "      <td>83.814988</td>\n",
       "    </tr>\n",
       "    <tr>\n",
       "      <th>Huang High School</th>\n",
       "      <td>76.629414</td>\n",
       "      <td>81.182722</td>\n",
       "    </tr>\n",
       "    <tr>\n",
       "      <th>Johnson High School</th>\n",
       "      <td>77.072464</td>\n",
       "      <td>80.966394</td>\n",
       "    </tr>\n",
       "    <tr>\n",
       "      <th>Pena High School</th>\n",
       "      <td>83.839917</td>\n",
       "      <td>84.044699</td>\n",
       "    </tr>\n",
       "    <tr>\n",
       "      <th>Rodriguez High School</th>\n",
       "      <td>76.842711</td>\n",
       "      <td>80.744686</td>\n",
       "    </tr>\n",
       "    <tr>\n",
       "      <th>Shelton High School</th>\n",
       "      <td>83.359455</td>\n",
       "      <td>83.725724</td>\n",
       "    </tr>\n",
       "    <tr>\n",
       "      <th>Thomas High School</th>\n",
       "      <td>83.418349</td>\n",
       "      <td>83.848930</td>\n",
       "    </tr>\n",
       "    <tr>\n",
       "      <th>Wilson High School</th>\n",
       "      <td>83.274201</td>\n",
       "      <td>83.989488</td>\n",
       "    </tr>\n",
       "    <tr>\n",
       "      <th>Wright High School</th>\n",
       "      <td>83.682222</td>\n",
       "      <td>83.955000</td>\n",
       "    </tr>\n",
       "  </tbody>\n",
       "</table>\n",
       "</div>"
      ],
      "text/plain": [
       "                       average_math_score  average_reading_score\n",
       "school_name                                                     \n",
       "Bailey High School              77.048432              81.033963\n",
       "Cabrera High School             83.061895              83.975780\n",
       "Figueroa High School            76.711767              81.158020\n",
       "Ford High School                77.102592              80.746258\n",
       "Griffin High School             83.351499              83.816757\n",
       "Hernandez High School           77.289752              80.934412\n",
       "Holden High School              83.803279              83.814988\n",
       "Huang High School               76.629414              81.182722\n",
       "Johnson High School             77.072464              80.966394\n",
       "Pena High School                83.839917              84.044699\n",
       "Rodriguez High School           76.842711              80.744686\n",
       "Shelton High School             83.359455              83.725724\n",
       "Thomas High School              83.418349              83.848930\n",
       "Wilson High School              83.274201              83.989488\n",
       "Wright High School              83.682222              83.955000"
      ]
     },
     "metadata": {},
     "output_type": "display_data"
    }
   ],
   "source": [
    "# Cacluate the avg math and reading score\n",
    "# Calculate the average math and average reading scores for each school\n",
    "average_scores = student_data.groupby('school_name').agg(\n",
    "    average_math_score=('math_score', 'mean'),\n",
    "    average_reading_score=('reading_score', 'mean')\n",
    ")\n",
    "\n",
    "# Print the average scores for each school\n",
    "display(average_scores)\n",
    "\n",
    "\n"
   ]
  },
  {
   "cell_type": "markdown",
   "metadata": {},
   "source": [
    "#### Find the passing rate for math and reading (above 70 points)"
   ]
  },
  {
   "cell_type": "code",
   "execution_count": 685,
   "metadata": {},
   "outputs": [
    {
     "name": "stdout",
     "output_type": "stream",
     "text": [
      "school_name\n",
      "Bailey High School       66.680064\n",
      "Cabrera High School      94.133477\n",
      "Figueroa High School     65.988471\n",
      "Ford High School         68.309602\n",
      "Griffin High School      93.392371\n",
      "Hernandez High School    66.752967\n",
      "Holden High School       92.505855\n",
      "Huang High School        65.683922\n",
      "Johnson High School      66.057551\n",
      "Pena High School         94.594595\n",
      "Rodriguez High School    66.366592\n",
      "Shelton High School      93.867121\n",
      "Thomas High School       93.272171\n",
      "Wilson High School       93.867718\n",
      "Wright High School       93.333333\n",
      "Name: math_score, dtype: float64\n"
     ]
    }
   ],
   "source": [
    "# Find the total counts of math result\n",
    "math_score_counts = student_data.groupby('school_name')['math_score'].count()\n",
    "\n",
    "# Find the counts for math result in each school that pass 70 or higher\n",
    "passing_math = student_data[student_data['math_score'] >= 70]\n",
    "passing_math_counts = passing_math.groupby('school_name')['math_score'].count()\n",
    "\n",
    "# Calculate the math passing rate\n",
    "math_passing_rate = (passing_math_counts / math_score_counts) * 100\n",
    "\n",
    "print(math_passing_rate)"
   ]
  },
  {
   "cell_type": "code",
   "execution_count": 687,
   "metadata": {},
   "outputs": [
    {
     "name": "stdout",
     "output_type": "stream",
     "text": [
      "school_name\n",
      "Bailey High School       81.933280\n",
      "Cabrera High School      97.039828\n",
      "Figueroa High School     80.739234\n",
      "Ford High School         79.299014\n",
      "Griffin High School      97.138965\n",
      "Hernandez High School    80.862999\n",
      "Holden High School       96.252927\n",
      "Huang High School        81.316421\n",
      "Johnson High School      81.222432\n",
      "Pena High School         95.945946\n",
      "Rodriguez High School    80.220055\n",
      "Shelton High School      95.854628\n",
      "Thomas High School       97.308869\n",
      "Wilson High School       96.539641\n",
      "Wright High School       96.611111\n",
      "Name: reading_score, dtype: float64\n"
     ]
    }
   ],
   "source": [
    "# Find the total counts of read result\n",
    "reading_score_counts = student_data.groupby('school_name')['reading_score'].count()\n",
    "\n",
    "\n",
    "# Find the counts for read result in each school that pass 70 or higher\n",
    "passing_reading = student_data[student_data['reading_score'] >= 70]\n",
    "passing_reading_counts = passing_reading.groupby('school_name')['reading_score'].count()\n",
    "\n",
    "# Calculate the read passing rate\n",
    "reading_passing_rate = (passing_reading_counts / reading_score_counts) * 100\n",
    "\n",
    "print(reading_passing_rate)\n"
   ]
  },
  {
   "cell_type": "code",
   "execution_count": 689,
   "metadata": {},
   "outputs": [
    {
     "name": "stdout",
     "output_type": "stream",
     "text": [
      "school_name\n",
      "Bailey High School       74.306672\n",
      "Cabrera High School      95.586652\n",
      "Figueroa High School     73.363852\n",
      "Ford High School         73.804308\n",
      "Griffin High School      95.265668\n",
      "Hernandez High School    73.807983\n",
      "Holden High School       94.379391\n",
      "Huang High School        73.500171\n",
      "Johnson High School      73.639992\n",
      "Pena High School         95.270270\n",
      "Rodriguez High School    73.293323\n",
      "Shelton High School      94.860875\n",
      "Thomas High School       95.290520\n",
      "Wilson High School       95.203679\n",
      "Wright High School       94.972222\n",
      "dtype: float64\n"
     ]
    }
   ],
   "source": [
    "# Calculate the overall passing rate (average of the math and reading passing rate)\n",
    "overall_passing_rate = (math_passing_rate + reading_passing_rate) / 2\n",
    "print(overall_passing_rate)\n"
   ]
  },
  {
   "cell_type": "markdown",
   "metadata": {},
   "source": [
    "### Bottom Performing Schools (By Passing Rate)"
   ]
  },
  {
   "cell_type": "markdown",
   "metadata": {},
   "source": [
    "* Sort and display the five worst-performing schools"
   ]
  },
  {
   "cell_type": "code",
   "execution_count": 693,
   "metadata": {},
   "outputs": [
    {
     "name": "stdout",
     "output_type": "stream",
     "text": [
      "Worst Five Schools in Overall Passing Rate:\n",
      "school_name\n",
      "Rodriguez High School    73.293323\n",
      "Figueroa High School     73.363852\n",
      "Huang High School        73.500171\n",
      "Johnson High School      73.639992\n",
      "Ford High School         73.804308\n",
      "dtype: float64\n"
     ]
    }
   ],
   "source": [
    "#  Sort and display the worst five schools in overall passing rate\n",
    "worst_five_schools = overall_passing_rate.sort_values(ascending=True).head(5)\n",
    "print(\"Worst Five Schools in Overall Passing Rate:\")\n",
    "print(worst_five_schools)\n"
   ]
  },
  {
   "cell_type": "markdown",
   "metadata": {
    "collapsed": true,
    "jupyter": {
     "outputs_hidden": true
    }
   },
   "source": [
    "## Math Scores by Grade"
   ]
  },
  {
   "cell_type": "markdown",
   "metadata": {},
   "source": [
    "* Create a table that lists the average Reading Score for students of each grade level (9th, 10th, 11th, 12th) at each school.\n",
    "\n",
    "  * Create a pandas series for each grade. Hint: use a conditional statement.\n",
    "  \n",
    "  * Group each series by school\n",
    "  \n",
    "  * Combine the series into a dataframe\n",
    "  \n",
    "  * Optional: give the displayed data cleaner formatting"
   ]
  },
  {
   "cell_type": "code",
   "execution_count": 697,
   "metadata": {},
   "outputs": [
    {
     "name": "stdout",
     "output_type": "stream",
     "text": [
      "Average Math Score by Grade Level for Each School:\n"
     ]
    },
    {
     "data": {
      "text/html": [
       "<div>\n",
       "<style scoped>\n",
       "    .dataframe tbody tr th:only-of-type {\n",
       "        vertical-align: middle;\n",
       "    }\n",
       "\n",
       "    .dataframe tbody tr th {\n",
       "        vertical-align: top;\n",
       "    }\n",
       "\n",
       "    .dataframe thead th {\n",
       "        text-align: right;\n",
       "    }\n",
       "</style>\n",
       "<table border=\"1\" class=\"dataframe\">\n",
       "  <thead>\n",
       "    <tr style=\"text-align: right;\">\n",
       "      <th>grade</th>\n",
       "      <th>9th</th>\n",
       "      <th>10th</th>\n",
       "      <th>11th</th>\n",
       "      <th>12th</th>\n",
       "    </tr>\n",
       "    <tr>\n",
       "      <th>school_name</th>\n",
       "      <th></th>\n",
       "      <th></th>\n",
       "      <th></th>\n",
       "      <th></th>\n",
       "    </tr>\n",
       "  </thead>\n",
       "  <tbody>\n",
       "    <tr>\n",
       "      <th>Bailey High School</th>\n",
       "      <td>77.083676</td>\n",
       "      <td>76.996772</td>\n",
       "      <td>77.515588</td>\n",
       "      <td>76.492218</td>\n",
       "    </tr>\n",
       "    <tr>\n",
       "      <th>Cabrera High School</th>\n",
       "      <td>83.094697</td>\n",
       "      <td>83.154506</td>\n",
       "      <td>82.765560</td>\n",
       "      <td>83.277487</td>\n",
       "    </tr>\n",
       "    <tr>\n",
       "      <th>Figueroa High School</th>\n",
       "      <td>76.403037</td>\n",
       "      <td>76.539974</td>\n",
       "      <td>76.884344</td>\n",
       "      <td>77.151369</td>\n",
       "    </tr>\n",
       "    <tr>\n",
       "      <th>Ford High School</th>\n",
       "      <td>77.361345</td>\n",
       "      <td>77.672316</td>\n",
       "      <td>76.918058</td>\n",
       "      <td>76.179963</td>\n",
       "    </tr>\n",
       "    <tr>\n",
       "      <th>Griffin High School</th>\n",
       "      <td>82.044010</td>\n",
       "      <td>84.229064</td>\n",
       "      <td>83.842105</td>\n",
       "      <td>83.356164</td>\n",
       "    </tr>\n",
       "    <tr>\n",
       "      <th>Hernandez High School</th>\n",
       "      <td>77.438495</td>\n",
       "      <td>77.337408</td>\n",
       "      <td>77.136029</td>\n",
       "      <td>77.186567</td>\n",
       "    </tr>\n",
       "    <tr>\n",
       "      <th>Holden High School</th>\n",
       "      <td>83.787402</td>\n",
       "      <td>83.429825</td>\n",
       "      <td>85.000000</td>\n",
       "      <td>82.855422</td>\n",
       "    </tr>\n",
       "    <tr>\n",
       "      <th>Huang High School</th>\n",
       "      <td>77.027251</td>\n",
       "      <td>75.908735</td>\n",
       "      <td>76.446602</td>\n",
       "      <td>77.225641</td>\n",
       "    </tr>\n",
       "    <tr>\n",
       "      <th>Johnson High School</th>\n",
       "      <td>77.187857</td>\n",
       "      <td>76.691117</td>\n",
       "      <td>77.491653</td>\n",
       "      <td>76.863248</td>\n",
       "    </tr>\n",
       "    <tr>\n",
       "      <th>Pena High School</th>\n",
       "      <td>83.625455</td>\n",
       "      <td>83.372000</td>\n",
       "      <td>84.328125</td>\n",
       "      <td>84.121547</td>\n",
       "    </tr>\n",
       "    <tr>\n",
       "      <th>Rodriguez High School</th>\n",
       "      <td>76.859966</td>\n",
       "      <td>76.612500</td>\n",
       "      <td>76.395626</td>\n",
       "      <td>77.690748</td>\n",
       "    </tr>\n",
       "    <tr>\n",
       "      <th>Shelton High School</th>\n",
       "      <td>83.420755</td>\n",
       "      <td>82.917411</td>\n",
       "      <td>83.383495</td>\n",
       "      <td>83.778976</td>\n",
       "    </tr>\n",
       "    <tr>\n",
       "      <th>Thomas High School</th>\n",
       "      <td>83.590022</td>\n",
       "      <td>83.087886</td>\n",
       "      <td>83.498795</td>\n",
       "      <td>83.497041</td>\n",
       "    </tr>\n",
       "    <tr>\n",
       "      <th>Wilson High School</th>\n",
       "      <td>83.085578</td>\n",
       "      <td>83.724422</td>\n",
       "      <td>83.195326</td>\n",
       "      <td>83.035794</td>\n",
       "    </tr>\n",
       "    <tr>\n",
       "      <th>Wright High School</th>\n",
       "      <td>83.264706</td>\n",
       "      <td>84.010288</td>\n",
       "      <td>83.836782</td>\n",
       "      <td>83.644986</td>\n",
       "    </tr>\n",
       "  </tbody>\n",
       "</table>\n",
       "</div>"
      ],
      "text/plain": [
       "grade                        9th       10th       11th       12th\n",
       "school_name                                                      \n",
       "Bailey High School     77.083676  76.996772  77.515588  76.492218\n",
       "Cabrera High School    83.094697  83.154506  82.765560  83.277487\n",
       "Figueroa High School   76.403037  76.539974  76.884344  77.151369\n",
       "Ford High School       77.361345  77.672316  76.918058  76.179963\n",
       "Griffin High School    82.044010  84.229064  83.842105  83.356164\n",
       "Hernandez High School  77.438495  77.337408  77.136029  77.186567\n",
       "Holden High School     83.787402  83.429825  85.000000  82.855422\n",
       "Huang High School      77.027251  75.908735  76.446602  77.225641\n",
       "Johnson High School    77.187857  76.691117  77.491653  76.863248\n",
       "Pena High School       83.625455  83.372000  84.328125  84.121547\n",
       "Rodriguez High School  76.859966  76.612500  76.395626  77.690748\n",
       "Shelton High School    83.420755  82.917411  83.383495  83.778976\n",
       "Thomas High School     83.590022  83.087886  83.498795  83.497041\n",
       "Wilson High School     83.085578  83.724422  83.195326  83.035794\n",
       "Wright High School     83.264706  84.010288  83.836782  83.644986"
      ]
     },
     "metadata": {},
     "output_type": "display_data"
    }
   ],
   "source": [
    "# Create table that lists the average math score for each school of each grade level.\n",
    "average_math_by_grade = student_data.groupby(['school_name', 'grade'])['math_score'].mean().unstack()\n",
    "\n",
    "# Reorder columns to ensure they are sorted from 9th to 12th\n",
    "average_math_by_grade = average_math_by_grade[['9th', '10th', '11th', '12th']]\n",
    "\n",
    "# Printing results to verify \n",
    "print(\"Average Math Score by Grade Level for Each School:\")\n",
    "display(average_math_by_grade)\n",
    "\n"
   ]
  },
  {
   "cell_type": "code",
   "execution_count": 699,
   "metadata": {},
   "outputs": [
    {
     "name": "stdout",
     "output_type": "stream",
     "text": [
      "Average Math Score for 9th Grade in Each School:\n",
      "school_name\n",
      "Bailey High School       77.083676\n",
      "Cabrera High School      83.094697\n",
      "Figueroa High School     76.403037\n",
      "Ford High School         77.361345\n",
      "Griffin High School      82.044010\n",
      "Hernandez High School    77.438495\n",
      "Holden High School       83.787402\n",
      "Huang High School        77.027251\n",
      "Johnson High School      77.187857\n",
      "Pena High School         83.625455\n",
      "Rodriguez High School    76.859966\n",
      "Shelton High School      83.420755\n",
      "Thomas High School       83.590022\n",
      "Wilson High School       83.085578\n",
      "Wright High School       83.264706\n",
      "Name: math_score, dtype: float64\n"
     ]
    }
   ],
   "source": [
    "# Calculate the average math score for 9th grade in each school\n",
    "ninth_grade_students = student_data[student_data['grade'] == '9th']\n",
    "average_math_9th_grade = ninth_grade_students.groupby('school_name')['math_score'].mean()\n",
    "\n",
    "# Print\n",
    "print(\"Average Math Score for 9th Grade in Each School:\")\n",
    "print(average_math_9th_grade)\n"
   ]
  },
  {
   "cell_type": "code",
   "execution_count": 701,
   "metadata": {},
   "outputs": [
    {
     "name": "stdout",
     "output_type": "stream",
     "text": [
      "Average Math Score for 10th Grade in Each School:\n",
      "school_name\n",
      "Bailey High School       76.996772\n",
      "Cabrera High School      83.154506\n",
      "Figueroa High School     76.539974\n",
      "Ford High School         77.672316\n",
      "Griffin High School      84.229064\n",
      "Hernandez High School    77.337408\n",
      "Holden High School       83.429825\n",
      "Huang High School        75.908735\n",
      "Johnson High School      76.691117\n",
      "Pena High School         83.372000\n",
      "Rodriguez High School    76.612500\n",
      "Shelton High School      82.917411\n",
      "Thomas High School       83.087886\n",
      "Wilson High School       83.724422\n",
      "Wright High School       84.010288\n",
      "Name: math_score, dtype: float64\n"
     ]
    }
   ],
   "source": [
    "# Calculate the average math score for 10th grade in each school\n",
    "tenth_grade_students = student_data[student_data['grade'] == '10th']\n",
    "average_math_10th_grade = tenth_grade_students.groupby('school_name')['math_score'].mean()\n",
    "\n",
    "# Print\n",
    "print(\"Average Math Score for 10th Grade in Each School:\")\n",
    "print(average_math_10th_grade)\n"
   ]
  },
  {
   "cell_type": "code",
   "execution_count": 703,
   "metadata": {},
   "outputs": [
    {
     "name": "stdout",
     "output_type": "stream",
     "text": [
      "Average Math Score for 11th Grade in Each School:\n",
      "school_name\n",
      "Bailey High School       77.515588\n",
      "Cabrera High School      82.765560\n",
      "Figueroa High School     76.884344\n",
      "Ford High School         76.918058\n",
      "Griffin High School      83.842105\n",
      "Hernandez High School    77.136029\n",
      "Holden High School       85.000000\n",
      "Huang High School        76.446602\n",
      "Johnson High School      77.491653\n",
      "Pena High School         84.328125\n",
      "Rodriguez High School    76.395626\n",
      "Shelton High School      83.383495\n",
      "Thomas High School       83.498795\n",
      "Wilson High School       83.195326\n",
      "Wright High School       83.836782\n",
      "Name: math_score, dtype: float64\n"
     ]
    }
   ],
   "source": [
    "# Calculate the average math score for 11th grade in each school\n",
    "eleventh_grade_students = student_data[student_data['grade'] == '11th']\n",
    "average_math_11th_grade = eleventh_grade_students.groupby('school_name')['math_score'].mean()\n",
    "\n",
    "# Print\n",
    "print(\"Average Math Score for 11th Grade in Each School:\")\n",
    "print(average_math_11th_grade)\n"
   ]
  },
  {
   "cell_type": "code",
   "execution_count": 705,
   "metadata": {},
   "outputs": [
    {
     "name": "stdout",
     "output_type": "stream",
     "text": [
      "Average Math Score for 12th Grade in Each School:\n",
      "school_name\n",
      "Bailey High School       76.492218\n",
      "Cabrera High School      83.277487\n",
      "Figueroa High School     77.151369\n",
      "Ford High School         76.179963\n",
      "Griffin High School      83.356164\n",
      "Hernandez High School    77.186567\n",
      "Holden High School       82.855422\n",
      "Huang High School        77.225641\n",
      "Johnson High School      76.863248\n",
      "Pena High School         84.121547\n",
      "Rodriguez High School    77.690748\n",
      "Shelton High School      83.778976\n",
      "Thomas High School       83.497041\n",
      "Wilson High School       83.035794\n",
      "Wright High School       83.644986\n",
      "Name: math_score, dtype: float64\n"
     ]
    }
   ],
   "source": [
    "# Calculate the average math score for 12th grade in each school\n",
    "twelfth_grade_students = student_data[student_data['grade'] == '12th']\n",
    "average_math_12th_grade = twelfth_grade_students.groupby('school_name')['math_score'].mean()\n",
    "\n",
    "# Print\n",
    "print(\"Average Math Score for 12th Grade in Each School:\")\n",
    "print(average_math_12th_grade)\n"
   ]
  },
  {
   "cell_type": "markdown",
   "metadata": {},
   "source": [
    "### Reading Score by Grade "
   ]
  },
  {
   "cell_type": "markdown",
   "metadata": {},
   "source": [
    "* Perform the same operations as above for reading scores"
   ]
  },
  {
   "cell_type": "code",
   "execution_count": 709,
   "metadata": {},
   "outputs": [
    {
     "name": "stdout",
     "output_type": "stream",
     "text": [
      "Average Reading Score by Grade Level for Each School:\n"
     ]
    },
    {
     "data": {
      "text/html": [
       "<div>\n",
       "<style scoped>\n",
       "    .dataframe tbody tr th:only-of-type {\n",
       "        vertical-align: middle;\n",
       "    }\n",
       "\n",
       "    .dataframe tbody tr th {\n",
       "        vertical-align: top;\n",
       "    }\n",
       "\n",
       "    .dataframe thead th {\n",
       "        text-align: right;\n",
       "    }\n",
       "</style>\n",
       "<table border=\"1\" class=\"dataframe\">\n",
       "  <thead>\n",
       "    <tr style=\"text-align: right;\">\n",
       "      <th>grade</th>\n",
       "      <th>9th</th>\n",
       "      <th>10th</th>\n",
       "      <th>11th</th>\n",
       "      <th>12th</th>\n",
       "    </tr>\n",
       "    <tr>\n",
       "      <th>school_name</th>\n",
       "      <th></th>\n",
       "      <th></th>\n",
       "      <th></th>\n",
       "      <th></th>\n",
       "    </tr>\n",
       "  </thead>\n",
       "  <tbody>\n",
       "    <tr>\n",
       "      <th>Bailey High School</th>\n",
       "      <td>81.303155</td>\n",
       "      <td>80.907183</td>\n",
       "      <td>80.945643</td>\n",
       "      <td>80.912451</td>\n",
       "    </tr>\n",
       "    <tr>\n",
       "      <th>Cabrera High School</th>\n",
       "      <td>83.676136</td>\n",
       "      <td>84.253219</td>\n",
       "      <td>83.788382</td>\n",
       "      <td>84.287958</td>\n",
       "    </tr>\n",
       "    <tr>\n",
       "      <th>Figueroa High School</th>\n",
       "      <td>81.198598</td>\n",
       "      <td>81.408912</td>\n",
       "      <td>80.640339</td>\n",
       "      <td>81.384863</td>\n",
       "    </tr>\n",
       "    <tr>\n",
       "      <th>Ford High School</th>\n",
       "      <td>80.632653</td>\n",
       "      <td>81.262712</td>\n",
       "      <td>80.403642</td>\n",
       "      <td>80.662338</td>\n",
       "    </tr>\n",
       "    <tr>\n",
       "      <th>Griffin High School</th>\n",
       "      <td>83.369193</td>\n",
       "      <td>83.706897</td>\n",
       "      <td>84.288089</td>\n",
       "      <td>84.013699</td>\n",
       "    </tr>\n",
       "    <tr>\n",
       "      <th>Hernandez High School</th>\n",
       "      <td>80.866860</td>\n",
       "      <td>80.660147</td>\n",
       "      <td>81.396140</td>\n",
       "      <td>80.857143</td>\n",
       "    </tr>\n",
       "    <tr>\n",
       "      <th>Holden High School</th>\n",
       "      <td>83.677165</td>\n",
       "      <td>83.324561</td>\n",
       "      <td>83.815534</td>\n",
       "      <td>84.698795</td>\n",
       "    </tr>\n",
       "    <tr>\n",
       "      <th>Huang High School</th>\n",
       "      <td>81.290284</td>\n",
       "      <td>81.512386</td>\n",
       "      <td>81.417476</td>\n",
       "      <td>80.305983</td>\n",
       "    </tr>\n",
       "    <tr>\n",
       "      <th>Johnson High School</th>\n",
       "      <td>81.260714</td>\n",
       "      <td>80.773431</td>\n",
       "      <td>80.616027</td>\n",
       "      <td>81.227564</td>\n",
       "    </tr>\n",
       "    <tr>\n",
       "      <th>Pena High School</th>\n",
       "      <td>83.807273</td>\n",
       "      <td>83.612000</td>\n",
       "      <td>84.335938</td>\n",
       "      <td>84.591160</td>\n",
       "    </tr>\n",
       "    <tr>\n",
       "      <th>Rodriguez High School</th>\n",
       "      <td>80.993127</td>\n",
       "      <td>80.629808</td>\n",
       "      <td>80.864811</td>\n",
       "      <td>80.376426</td>\n",
       "    </tr>\n",
       "    <tr>\n",
       "      <th>Shelton High School</th>\n",
       "      <td>84.122642</td>\n",
       "      <td>83.441964</td>\n",
       "      <td>84.373786</td>\n",
       "      <td>82.781671</td>\n",
       "    </tr>\n",
       "    <tr>\n",
       "      <th>Thomas High School</th>\n",
       "      <td>83.728850</td>\n",
       "      <td>84.254157</td>\n",
       "      <td>83.585542</td>\n",
       "      <td>83.831361</td>\n",
       "    </tr>\n",
       "    <tr>\n",
       "      <th>Wilson High School</th>\n",
       "      <td>83.939778</td>\n",
       "      <td>84.021452</td>\n",
       "      <td>83.764608</td>\n",
       "      <td>84.317673</td>\n",
       "    </tr>\n",
       "    <tr>\n",
       "      <th>Wright High School</th>\n",
       "      <td>83.833333</td>\n",
       "      <td>83.812757</td>\n",
       "      <td>84.156322</td>\n",
       "      <td>84.073171</td>\n",
       "    </tr>\n",
       "  </tbody>\n",
       "</table>\n",
       "</div>"
      ],
      "text/plain": [
       "grade                        9th       10th       11th       12th\n",
       "school_name                                                      \n",
       "Bailey High School     81.303155  80.907183  80.945643  80.912451\n",
       "Cabrera High School    83.676136  84.253219  83.788382  84.287958\n",
       "Figueroa High School   81.198598  81.408912  80.640339  81.384863\n",
       "Ford High School       80.632653  81.262712  80.403642  80.662338\n",
       "Griffin High School    83.369193  83.706897  84.288089  84.013699\n",
       "Hernandez High School  80.866860  80.660147  81.396140  80.857143\n",
       "Holden High School     83.677165  83.324561  83.815534  84.698795\n",
       "Huang High School      81.290284  81.512386  81.417476  80.305983\n",
       "Johnson High School    81.260714  80.773431  80.616027  81.227564\n",
       "Pena High School       83.807273  83.612000  84.335938  84.591160\n",
       "Rodriguez High School  80.993127  80.629808  80.864811  80.376426\n",
       "Shelton High School    84.122642  83.441964  84.373786  82.781671\n",
       "Thomas High School     83.728850  84.254157  83.585542  83.831361\n",
       "Wilson High School     83.939778  84.021452  83.764608  84.317673\n",
       "Wright High School     83.833333  83.812757  84.156322  84.073171"
      ]
     },
     "metadata": {},
     "output_type": "display_data"
    }
   ],
   "source": [
    "# Create table that lists the average reading score for each school of each grade level.\n",
    "average_reading_by_grade = student_data.groupby(['school_name', 'grade'])['reading_score'].mean().unstack()\n",
    "\n",
    "# Reorder columns to ensure they are sorted from 9th to 12th\n",
    "average_reading_by_grade = average_reading_by_grade[['9th', '10th', '11th', '12th']]\n",
    "\n",
    "# Printing results to verify \n",
    "print(\"Average Reading Score by Grade Level for Each School:\")\n",
    "display(average_reading_by_grade)\n"
   ]
  },
  {
   "cell_type": "code",
   "execution_count": 710,
   "metadata": {},
   "outputs": [
    {
     "name": "stdout",
     "output_type": "stream",
     "text": [
      "Average Reading Score for 9th Grade in Each School:\n",
      "school_name\n",
      "Bailey High School       81.303155\n",
      "Cabrera High School      83.676136\n",
      "Figueroa High School     81.198598\n",
      "Ford High School         80.632653\n",
      "Griffin High School      83.369193\n",
      "Hernandez High School    80.866860\n",
      "Holden High School       83.677165\n",
      "Huang High School        81.290284\n",
      "Johnson High School      81.260714\n",
      "Pena High School         83.807273\n",
      "Rodriguez High School    80.993127\n",
      "Shelton High School      84.122642\n",
      "Thomas High School       83.728850\n",
      "Wilson High School       83.939778\n",
      "Wright High School       83.833333\n",
      "Name: reading_score, dtype: float64\n"
     ]
    }
   ],
   "source": [
    "# Calculate the average reading score for 9th grade in each school\n",
    "average_reading_9th_grade = ninth_grade_students.groupby('school_name')['reading_score'].mean()\n",
    "\n",
    "# Print\n",
    "print(\"Average Reading Score for 9th Grade in Each School:\")\n",
    "print(average_reading_9th_grade)\n"
   ]
  },
  {
   "cell_type": "code",
   "execution_count": 713,
   "metadata": {},
   "outputs": [
    {
     "name": "stdout",
     "output_type": "stream",
     "text": [
      "Average Reading Score for 10th Grade in Each School:\n",
      "school_name\n",
      "Bailey High School       80.907183\n",
      "Cabrera High School      84.253219\n",
      "Figueroa High School     81.408912\n",
      "Ford High School         81.262712\n",
      "Griffin High School      83.706897\n",
      "Hernandez High School    80.660147\n",
      "Holden High School       83.324561\n",
      "Huang High School        81.512386\n",
      "Johnson High School      80.773431\n",
      "Pena High School         83.612000\n",
      "Rodriguez High School    80.629808\n",
      "Shelton High School      83.441964\n",
      "Thomas High School       84.254157\n",
      "Wilson High School       84.021452\n",
      "Wright High School       83.812757\n",
      "Name: reading_score, dtype: float64\n"
     ]
    }
   ],
   "source": [
    "# Calculate the average reading score for 10th grade in each school\n",
    "average_reading_10th_grade = tenth_grade_students.groupby('school_name')['reading_score'].mean()\n",
    "\n",
    "# Print\n",
    "print(\"Average Reading Score for 10th Grade in Each School:\")\n",
    "print(average_reading_10th_grade)\n"
   ]
  },
  {
   "cell_type": "code",
   "execution_count": 715,
   "metadata": {},
   "outputs": [
    {
     "name": "stdout",
     "output_type": "stream",
     "text": [
      "Average Reading Score for 11th Grade in Each School:\n",
      "school_name\n",
      "Bailey High School       80.945643\n",
      "Cabrera High School      83.788382\n",
      "Figueroa High School     80.640339\n",
      "Ford High School         80.403642\n",
      "Griffin High School      84.288089\n",
      "Hernandez High School    81.396140\n",
      "Holden High School       83.815534\n",
      "Huang High School        81.417476\n",
      "Johnson High School      80.616027\n",
      "Pena High School         84.335938\n",
      "Rodriguez High School    80.864811\n",
      "Shelton High School      84.373786\n",
      "Thomas High School       83.585542\n",
      "Wilson High School       83.764608\n",
      "Wright High School       84.156322\n",
      "Name: reading_score, dtype: float64\n"
     ]
    }
   ],
   "source": [
    "# Calculate the average reading score for 11th grade in each school\n",
    "average_reading_11th_grade = eleventh_grade_students.groupby('school_name')['reading_score'].mean()\n",
    "\n",
    "# Print\n",
    "print(\"Average Reading Score for 11th Grade in Each School:\")\n",
    "print(average_reading_11th_grade)\n"
   ]
  },
  {
   "cell_type": "code",
   "execution_count": 717,
   "metadata": {},
   "outputs": [
    {
     "name": "stdout",
     "output_type": "stream",
     "text": [
      "Average Reading Score for 12th Grade in Each School:\n",
      "school_name\n",
      "Bailey High School       80.912451\n",
      "Cabrera High School      84.287958\n",
      "Figueroa High School     81.384863\n",
      "Ford High School         80.662338\n",
      "Griffin High School      84.013699\n",
      "Hernandez High School    80.857143\n",
      "Holden High School       84.698795\n",
      "Huang High School        80.305983\n",
      "Johnson High School      81.227564\n",
      "Pena High School         84.591160\n",
      "Rodriguez High School    80.376426\n",
      "Shelton High School      82.781671\n",
      "Thomas High School       83.831361\n",
      "Wilson High School       84.317673\n",
      "Wright High School       84.073171\n",
      "Name: reading_score, dtype: float64\n"
     ]
    }
   ],
   "source": [
    "# Calculate the average reading score for 12th grade in each school\n",
    "average_reading_12th_grade = twelfth_grade_students.groupby('school_name')['reading_score'].mean()\n",
    "\n",
    "# Print\n",
    "print(\"Average Reading Score for 12th Grade in Each School:\")\n",
    "print(average_reading_12th_grade)\n"
   ]
  },
  {
   "cell_type": "markdown",
   "metadata": {},
   "source": [
    "## Scores by School Spending"
   ]
  },
  {
   "cell_type": "markdown",
   "metadata": {},
   "source": [
    "* Create a table that breaks down school performances based on average Spending Ranges (Per Student). Use 4 reasonable bins to group school spending. Include in the table each of the following:\n",
    "  * Average Math Score\n",
    "  * Average Reading Score\n",
    "  * % Passing Math\n",
    "  * % Passing Reading\n",
    "  * Overall Passing Rate (Average of the above two)"
   ]
  },
  {
   "cell_type": "code",
   "execution_count": 721,
   "metadata": {},
   "outputs": [],
   "source": [
    "# Sample bins. Feel free to create your own bins.\n",
    "spending_bins = [0, 585, 630, 645, float('inf')]\n",
    "group_names = [\"<$585\", \"$585-630\", \"$630-645\", \">$645\"]"
   ]
  },
  {
   "cell_type": "code",
   "execution_count": 727,
   "metadata": {},
   "outputs": [
    {
     "name": "stderr",
     "output_type": "stream",
     "text": [
      "/var/folders/bb/qxcf7b0d1zzbx6vt008mk2r00000gn/T/ipykernel_87099/12972625.py:3: FutureWarning: The default of observed=False is deprecated and will be changed to True in a future version of pandas. Pass observed=False to retain current behavior or observed=True to adopt the future default and silence this warning.\n",
      "  avg_spending_by_range = school_data.groupby('spending_range')['spending_per_student'].mean().reset_index(name='avg_budget_per_student')\n"
     ]
    },
    {
     "data": {
      "text/html": [
       "<div>\n",
       "<style scoped>\n",
       "    .dataframe tbody tr th:only-of-type {\n",
       "        vertical-align: middle;\n",
       "    }\n",
       "\n",
       "    .dataframe tbody tr th {\n",
       "        vertical-align: top;\n",
       "    }\n",
       "\n",
       "    .dataframe thead th {\n",
       "        text-align: right;\n",
       "    }\n",
       "</style>\n",
       "<table border=\"1\" class=\"dataframe\">\n",
       "  <thead>\n",
       "    <tr style=\"text-align: right;\">\n",
       "      <th></th>\n",
       "      <th>avg_budget_per_student</th>\n",
       "    </tr>\n",
       "  </thead>\n",
       "  <tbody>\n",
       "    <tr>\n",
       "      <th>0</th>\n",
       "      <td>581.000000</td>\n",
       "    </tr>\n",
       "    <tr>\n",
       "      <th>1</th>\n",
       "      <td>615.500000</td>\n",
       "    </tr>\n",
       "    <tr>\n",
       "      <th>2</th>\n",
       "      <td>639.500000</td>\n",
       "    </tr>\n",
       "    <tr>\n",
       "      <th>3</th>\n",
       "      <td>652.333333</td>\n",
       "    </tr>\n",
       "  </tbody>\n",
       "</table>\n",
       "</div>"
      ],
      "text/plain": [
       "   avg_budget_per_student\n",
       "0              581.000000\n",
       "1              615.500000\n",
       "2              639.500000\n",
       "3              652.333333"
      ]
     },
     "metadata": {},
     "output_type": "display_data"
    }
   ],
   "source": [
    "# Create a new column to show budget per student in each row\n",
    "school_data['spending_range'] = pd.cut(school_data['spending_per_student'], bins=spending_bins, labels=group_names)\n",
    "avg_spending_by_range = school_data.groupby('spending_range')['spending_per_student'].mean().reset_index(name='avg_budget_per_student')\n",
    "\n",
    "# Print the final grouped data\n",
    "display(avg_spending_by_range[['avg_budget_per_student']])\n"
   ]
  },
  {
   "cell_type": "code",
   "execution_count": 731,
   "metadata": {},
   "outputs": [
    {
     "name": "stderr",
     "output_type": "stream",
     "text": [
      "/var/folders/bb/qxcf7b0d1zzbx6vt008mk2r00000gn/T/ipykernel_87099/796374028.py:4: FutureWarning: The default of observed=False is deprecated and will be changed to True in a future version of pandas. Pass observed=False to retain current behavior or observed=True to adopt the future default and silence this warning.\n",
      "  avg_spending_by_range = school_data.groupby('spending_range')['spending_per_student'].mean().reset_index(name='avg_budget_per_student')\n"
     ]
    }
   ],
   "source": [
    "# Create a new column to show budget per student in each row\n",
    "\n",
    "school_data['spending_per_student'] = school_data['budget'] / school_data['size']\n",
    "avg_spending_by_range = school_data.groupby('spending_range')['spending_per_student'].mean().reset_index(name='avg_budget_per_student')\n",
    "\n"
   ]
  },
  {
   "cell_type": "code",
   "execution_count": 733,
   "metadata": {},
   "outputs": [
    {
     "data": {
      "text/html": [
       "<div>\n",
       "<style scoped>\n",
       "    .dataframe tbody tr th:only-of-type {\n",
       "        vertical-align: middle;\n",
       "    }\n",
       "\n",
       "    .dataframe tbody tr th {\n",
       "        vertical-align: top;\n",
       "    }\n",
       "\n",
       "    .dataframe thead th {\n",
       "        text-align: right;\n",
       "    }\n",
       "</style>\n",
       "<table border=\"1\" class=\"dataframe\">\n",
       "  <thead>\n",
       "    <tr style=\"text-align: right;\">\n",
       "      <th></th>\n",
       "      <th>spending_range</th>\n",
       "      <th>avg_budget_per_student</th>\n",
       "    </tr>\n",
       "  </thead>\n",
       "  <tbody>\n",
       "    <tr>\n",
       "      <th>0</th>\n",
       "      <td>&lt;$585</td>\n",
       "      <td>581.000000</td>\n",
       "    </tr>\n",
       "    <tr>\n",
       "      <th>1</th>\n",
       "      <td>$585-630</td>\n",
       "      <td>615.500000</td>\n",
       "    </tr>\n",
       "    <tr>\n",
       "      <th>2</th>\n",
       "      <td>$630-645</td>\n",
       "      <td>639.500000</td>\n",
       "    </tr>\n",
       "    <tr>\n",
       "      <th>3</th>\n",
       "      <td>&gt;$645</td>\n",
       "      <td>652.333333</td>\n",
       "    </tr>\n",
       "  </tbody>\n",
       "</table>\n",
       "</div>"
      ],
      "text/plain": [
       "  spending_range  avg_budget_per_student\n",
       "0          <$585              581.000000\n",
       "1       $585-630              615.500000\n",
       "2       $630-645              639.500000\n",
       "3          >$645              652.333333"
      ]
     },
     "metadata": {},
     "output_type": "display_data"
    }
   ],
   "source": [
    "# Create a new column to define the spending ranges per student\n",
    "\n",
    "\n",
    "# Print the final grouped data\n",
    "display(avg_spending_by_range)\n"
   ]
  },
  {
   "cell_type": "code",
   "execution_count": 735,
   "metadata": {},
   "outputs": [
    {
     "name": "stderr",
     "output_type": "stream",
     "text": [
      "/var/folders/bb/qxcf7b0d1zzbx6vt008mk2r00000gn/T/ipykernel_87099/745075440.py:9: FutureWarning: The default of observed=False is deprecated and will be changed to True in a future version of pandas. Pass observed=False to retain current behavior or observed=True to adopt the future default and silence this warning.\n",
      "  average_math_by_spending = merged_data.groupby('spending_range')['math_score'].mean().reset_index(name='average_math_score_in_range')\n"
     ]
    },
    {
     "data": {
      "text/html": [
       "<div>\n",
       "<style scoped>\n",
       "    .dataframe tbody tr th:only-of-type {\n",
       "        vertical-align: middle;\n",
       "    }\n",
       "\n",
       "    .dataframe tbody tr th {\n",
       "        vertical-align: top;\n",
       "    }\n",
       "\n",
       "    .dataframe thead th {\n",
       "        text-align: right;\n",
       "    }\n",
       "</style>\n",
       "<table border=\"1\" class=\"dataframe\">\n",
       "  <thead>\n",
       "    <tr style=\"text-align: right;\">\n",
       "      <th></th>\n",
       "      <th>spending_range</th>\n",
       "      <th>avg_budget_per_student</th>\n",
       "      <th>average_math_score_in_range</th>\n",
       "    </tr>\n",
       "  </thead>\n",
       "  <tbody>\n",
       "    <tr>\n",
       "      <th>0</th>\n",
       "      <td>&lt;$585</td>\n",
       "      <td>581.000000</td>\n",
       "      <td>83.363065</td>\n",
       "    </tr>\n",
       "    <tr>\n",
       "      <th>1</th>\n",
       "      <td>$585-630</td>\n",
       "      <td>615.500000</td>\n",
       "      <td>79.982873</td>\n",
       "    </tr>\n",
       "    <tr>\n",
       "      <th>2</th>\n",
       "      <td>$630-645</td>\n",
       "      <td>639.500000</td>\n",
       "      <td>77.821056</td>\n",
       "    </tr>\n",
       "    <tr>\n",
       "      <th>3</th>\n",
       "      <td>&gt;$645</td>\n",
       "      <td>652.333333</td>\n",
       "      <td>77.049297</td>\n",
       "    </tr>\n",
       "  </tbody>\n",
       "</table>\n",
       "</div>"
      ],
      "text/plain": [
       "  spending_range  avg_budget_per_student  average_math_score_in_range\n",
       "0          <$585              581.000000                    83.363065\n",
       "1       $585-630              615.500000                    79.982873\n",
       "2       $630-645              639.500000                    77.821056\n",
       "3          >$645              652.333333                    77.049297"
      ]
     },
     "metadata": {},
     "output_type": "display_data"
    }
   ],
   "source": [
    "# Calculate the average math score within each spending range\n",
    "\n",
    "# Merge student_data with school_data based on 'school_name'\n",
    "merged_data = pd.merge(student_data[['school_name', 'math_score', 'reading_score']], \n",
    "                       school_data[['school_name', 'spending_range']], \n",
    "                       on='school_name', how='left')\n",
    "\n",
    "# Calculate the average math score for each spending range\n",
    "average_math_by_spending = merged_data.groupby('spending_range')['math_score'].mean().reset_index(name='average_math_score_in_range')\n",
    "\n",
    "# Merge the average spending and average math score data\n",
    "final_grouped_data = pd.merge(avg_spending_by_range, average_math_by_spending, on='spending_range')\n",
    "\n",
    "# Display the final table with average spending per student and average math score in each spending range\n",
    "display(final_grouped_data[['spending_range', 'avg_budget_per_student', 'average_math_score_in_range']])\n"
   ]
  },
  {
   "cell_type": "code",
   "execution_count": 737,
   "metadata": {},
   "outputs": [
    {
     "name": "stderr",
     "output_type": "stream",
     "text": [
      "/var/folders/bb/qxcf7b0d1zzbx6vt008mk2r00000gn/T/ipykernel_87099/596567602.py:7: FutureWarning: The default of observed=False is deprecated and will be changed to True in a future version of pandas. Pass observed=False to retain current behavior or observed=True to adopt the future default and silence this warning.\n",
      "  passing_math_rate = merged_data.groupby('spending_range').agg(\n"
     ]
    },
    {
     "data": {
      "text/html": [
       "<div>\n",
       "<style scoped>\n",
       "    .dataframe tbody tr th:only-of-type {\n",
       "        vertical-align: middle;\n",
       "    }\n",
       "\n",
       "    .dataframe tbody tr th {\n",
       "        vertical-align: top;\n",
       "    }\n",
       "\n",
       "    .dataframe thead th {\n",
       "        text-align: right;\n",
       "    }\n",
       "</style>\n",
       "<table border=\"1\" class=\"dataframe\">\n",
       "  <thead>\n",
       "    <tr style=\"text-align: right;\">\n",
       "      <th></th>\n",
       "      <th>spending_range</th>\n",
       "      <th>avg_budget_per_student</th>\n",
       "      <th>average_math_score_in_range</th>\n",
       "      <th>passing_math_percentage_in_range</th>\n",
       "    </tr>\n",
       "  </thead>\n",
       "  <tbody>\n",
       "    <tr>\n",
       "      <th>0</th>\n",
       "      <td>&lt;$585</td>\n",
       "      <td>581.000000</td>\n",
       "      <td>83.363065</td>\n",
       "      <td>93.702889</td>\n",
       "    </tr>\n",
       "    <tr>\n",
       "      <th>1</th>\n",
       "      <td>$585-630</td>\n",
       "      <td>615.500000</td>\n",
       "      <td>79.982873</td>\n",
       "      <td>79.109851</td>\n",
       "    </tr>\n",
       "    <tr>\n",
       "      <th>2</th>\n",
       "      <td>$630-645</td>\n",
       "      <td>639.500000</td>\n",
       "      <td>77.821056</td>\n",
       "      <td>70.623565</td>\n",
       "    </tr>\n",
       "    <tr>\n",
       "      <th>3</th>\n",
       "      <td>&gt;$645</td>\n",
       "      <td>652.333333</td>\n",
       "      <td>77.049297</td>\n",
       "      <td>66.230813</td>\n",
       "    </tr>\n",
       "  </tbody>\n",
       "</table>\n",
       "</div>"
      ],
      "text/plain": [
       "  spending_range  avg_budget_per_student  average_math_score_in_range  \\\n",
       "0          <$585              581.000000                    83.363065   \n",
       "1       $585-630              615.500000                    79.982873   \n",
       "2       $630-645              639.500000                    77.821056   \n",
       "3          >$645              652.333333                    77.049297   \n",
       "\n",
       "   passing_math_percentage_in_range  \n",
       "0                         93.702889  \n",
       "1                         79.109851  \n",
       "2                         70.623565  \n",
       "3                         66.230813  "
      ]
     },
     "metadata": {},
     "output_type": "display_data"
    }
   ],
   "source": [
    "# Calculate the percentage passing rate for math in each spending range\n",
    "\n",
    "# Calculate the percentage of students passing math (>= 70) in each spending range\n",
    "merged_data['passing_math'] = merged_data['math_score'] >= 70\n",
    "\n",
    "# Group by spending_range, calculate the passing rate for math\n",
    "passing_math_rate = merged_data.groupby('spending_range').agg(\n",
    "    total_students=('math_score', 'count'),\n",
    "    passing_students=('passing_math', 'sum')\n",
    ").reset_index()\n",
    "\n",
    "# Calculate the passing rate for math as a percentage\n",
    "passing_math_rate['passing_math_percentage_in_range'] = (passing_math_rate['passing_students'] / passing_math_rate['total_students']) * 100\n",
    "\n",
    "# Merge the results into a final DataFrame, using 'spending_range' to join\n",
    "final_grouped_data = pd.merge(\n",
    "    avg_spending_by_range, \n",
    "    average_math_by_spending, \n",
    "    on='spending_range', \n",
    "    how='left'\n",
    ")\n",
    "\n",
    "final_grouped_data = pd.merge(\n",
    "    final_grouped_data, \n",
    "    passing_math_rate[['spending_range', 'passing_math_percentage_in_range']], \n",
    "    on='spending_range', \n",
    "    how='left'\n",
    ")\n",
    "\n",
    "# Display the final table with the aggregated results\n",
    "display(final_grouped_data[['spending_range', 'avg_budget_per_student', \n",
    "                            'average_math_score_in_range', 'passing_math_percentage_in_range']])\n"
   ]
  },
  {
   "cell_type": "code",
   "execution_count": 739,
   "metadata": {},
   "outputs": [
    {
     "name": "stderr",
     "output_type": "stream",
     "text": [
      "/var/folders/bb/qxcf7b0d1zzbx6vt008mk2r00000gn/T/ipykernel_87099/1579310321.py:7: FutureWarning: The default of observed=False is deprecated and will be changed to True in a future version of pandas. Pass observed=False to retain current behavior or observed=True to adopt the future default and silence this warning.\n",
      "  passing_reading_rate = merged_data.groupby('spending_range').agg(\n"
     ]
    },
    {
     "data": {
      "text/html": [
       "<div>\n",
       "<style scoped>\n",
       "    .dataframe tbody tr th:only-of-type {\n",
       "        vertical-align: middle;\n",
       "    }\n",
       "\n",
       "    .dataframe tbody tr th {\n",
       "        vertical-align: top;\n",
       "    }\n",
       "\n",
       "    .dataframe thead th {\n",
       "        text-align: right;\n",
       "    }\n",
       "</style>\n",
       "<table border=\"1\" class=\"dataframe\">\n",
       "  <thead>\n",
       "    <tr style=\"text-align: right;\">\n",
       "      <th></th>\n",
       "      <th>spending_range</th>\n",
       "      <th>avg_budget_per_student</th>\n",
       "      <th>average_math_score_in_range</th>\n",
       "      <th>passing_math_percentage_in_range</th>\n",
       "      <th>passing_reading_percentage_in_range</th>\n",
       "    </tr>\n",
       "  </thead>\n",
       "  <tbody>\n",
       "    <tr>\n",
       "      <th>0</th>\n",
       "      <td>&lt;$585</td>\n",
       "      <td>581.000000</td>\n",
       "      <td>83.363065</td>\n",
       "      <td>93.702889</td>\n",
       "      <td>96.686558</td>\n",
       "    </tr>\n",
       "    <tr>\n",
       "      <th>1</th>\n",
       "      <td>$585-630</td>\n",
       "      <td>615.500000</td>\n",
       "      <td>79.982873</td>\n",
       "      <td>79.109851</td>\n",
       "      <td>88.513145</td>\n",
       "    </tr>\n",
       "    <tr>\n",
       "      <th>2</th>\n",
       "      <td>$630-645</td>\n",
       "      <td>639.500000</td>\n",
       "      <td>77.821056</td>\n",
       "      <td>70.623565</td>\n",
       "      <td>82.600247</td>\n",
       "    </tr>\n",
       "    <tr>\n",
       "      <th>3</th>\n",
       "      <td>&gt;$645</td>\n",
       "      <td>652.333333</td>\n",
       "      <td>77.049297</td>\n",
       "      <td>66.230813</td>\n",
       "      <td>81.109397</td>\n",
       "    </tr>\n",
       "  </tbody>\n",
       "</table>\n",
       "</div>"
      ],
      "text/plain": [
       "  spending_range  avg_budget_per_student  average_math_score_in_range  \\\n",
       "0          <$585              581.000000                    83.363065   \n",
       "1       $585-630              615.500000                    79.982873   \n",
       "2       $630-645              639.500000                    77.821056   \n",
       "3          >$645              652.333333                    77.049297   \n",
       "\n",
       "   passing_math_percentage_in_range  passing_reading_percentage_in_range  \n",
       "0                         93.702889                            96.686558  \n",
       "1                         79.109851                            88.513145  \n",
       "2                         70.623565                            82.600247  \n",
       "3                         66.230813                            81.109397  "
      ]
     },
     "metadata": {},
     "output_type": "display_data"
    }
   ],
   "source": [
    "# Calculate the percentage passing rate for reading in each spending range\n",
    "\n",
    "# Calculate the percentage of students passing reading (>= 70) in each spending range\n",
    "merged_data['passing_reading'] = merged_data['reading_score'] >= 70\n",
    "\n",
    "# Group by spending_range, calculate the passing rate for reading\n",
    "passing_reading_rate = merged_data.groupby('spending_range').agg(\n",
    "    total_students=('reading_score', 'count'),\n",
    "    passing_students=('passing_reading', 'sum')\n",
    ").reset_index()\n",
    "\n",
    "# Calculate the passing rate for reading as a percentage\n",
    "passing_reading_rate['passing_reading_percentage_in_range'] = (passing_reading_rate['passing_students'] / passing_reading_rate['total_students']) * 100\n",
    "\n",
    "# Now, merge the results into a final DataFrame, using 'spending_range' to join\n",
    "final_grouped_data = pd.merge(avg_spending_by_range, average_math_by_spending, on='spending_range', how='left')\n",
    "\n",
    "final_grouped_data = pd.merge(\n",
    "    final_grouped_data, \n",
    "    passing_math_rate[['spending_range', 'passing_math_percentage_in_range']], \n",
    "    on='spending_range', how='left'\n",
    ")\n",
    "\n",
    "final_grouped_data = pd.merge(\n",
    "    final_grouped_data, \n",
    "    passing_reading_rate[['spending_range', 'passing_reading_percentage_in_range']], \n",
    "    on='spending_range', how='left'\n",
    ")\n",
    "\n",
    "# Display the final table with the aggregated results\n",
    "display(final_grouped_data[['spending_range', 'avg_budget_per_student', \n",
    "                            'average_math_score_in_range', 'passing_math_percentage_in_range', \n",
    "                            'passing_reading_percentage_in_range']])\n"
   ]
  },
  {
   "cell_type": "code",
   "execution_count": 741,
   "metadata": {},
   "outputs": [
    {
     "name": "stderr",
     "output_type": "stream",
     "text": [
      "/var/folders/bb/qxcf7b0d1zzbx6vt008mk2r00000gn/T/ipykernel_87099/1412236327.py:4: FutureWarning: The default of observed=False is deprecated and will be changed to True in a future version of pandas. Pass observed=False to retain current behavior or observed=True to adopt the future default and silence this warning.\n",
      "  average_scores = merged_data.groupby('spending_range').agg(\n",
      "/var/folders/bb/qxcf7b0d1zzbx6vt008mk2r00000gn/T/ipykernel_87099/1412236327.py:11: FutureWarning: The default of observed=False is deprecated and will be changed to True in a future version of pandas. Pass observed=False to retain current behavior or observed=True to adopt the future default and silence this warning.\n",
      "  passing_rates = merged_data.groupby('spending_range').agg(\n",
      "/var/folders/bb/qxcf7b0d1zzbx6vt008mk2r00000gn/T/ipykernel_87099/1412236327.py:29: FutureWarning: The default of observed=False is deprecated and will be changed to True in a future version of pandas. Pass observed=False to retain current behavior or observed=True to adopt the future default and silence this warning.\n",
      "  avg_budget_per_student = school_data.groupby('spending_range')['spending_per_student'].mean().reset_index(name='avg_budget_per_student')\n",
      "/var/folders/bb/qxcf7b0d1zzbx6vt008mk2r00000gn/T/ipykernel_87099/1412236327.py:36: FutureWarning: The default of observed=False is deprecated and will be changed to True in a future version of pandas. Pass observed=False to retain current behavior or observed=True to adopt the future default and silence this warning.\n",
      "  passing_math_rate = merged_data.groupby('spending_range').agg(\n"
     ]
    },
    {
     "data": {
      "text/html": [
       "<div>\n",
       "<style scoped>\n",
       "    .dataframe tbody tr th:only-of-type {\n",
       "        vertical-align: middle;\n",
       "    }\n",
       "\n",
       "    .dataframe tbody tr th {\n",
       "        vertical-align: top;\n",
       "    }\n",
       "\n",
       "    .dataframe thead th {\n",
       "        text-align: right;\n",
       "    }\n",
       "</style>\n",
       "<table border=\"1\" class=\"dataframe\">\n",
       "  <thead>\n",
       "    <tr style=\"text-align: right;\">\n",
       "      <th></th>\n",
       "      <th>spending_range</th>\n",
       "      <th>avg_budget_per_student</th>\n",
       "      <th>average_math_score</th>\n",
       "      <th>passing_math_percentage_in_range</th>\n",
       "      <th>passing_reading_percentage</th>\n",
       "      <th>overall_passing_rate</th>\n",
       "    </tr>\n",
       "  </thead>\n",
       "  <tbody>\n",
       "    <tr>\n",
       "      <th>0</th>\n",
       "      <td>&lt;$585</td>\n",
       "      <td>581.000000</td>\n",
       "      <td>83.363065</td>\n",
       "      <td>93.702889</td>\n",
       "      <td>96.686558</td>\n",
       "      <td>95.194724</td>\n",
       "    </tr>\n",
       "    <tr>\n",
       "      <th>1</th>\n",
       "      <td>$585-630</td>\n",
       "      <td>615.500000</td>\n",
       "      <td>79.982873</td>\n",
       "      <td>79.109851</td>\n",
       "      <td>88.513145</td>\n",
       "      <td>83.811498</td>\n",
       "    </tr>\n",
       "    <tr>\n",
       "      <th>2</th>\n",
       "      <td>$630-645</td>\n",
       "      <td>639.500000</td>\n",
       "      <td>77.821056</td>\n",
       "      <td>70.623565</td>\n",
       "      <td>82.600247</td>\n",
       "      <td>76.611906</td>\n",
       "    </tr>\n",
       "    <tr>\n",
       "      <th>3</th>\n",
       "      <td>&gt;$645</td>\n",
       "      <td>652.333333</td>\n",
       "      <td>77.049297</td>\n",
       "      <td>66.230813</td>\n",
       "      <td>81.109397</td>\n",
       "      <td>73.670105</td>\n",
       "    </tr>\n",
       "  </tbody>\n",
       "</table>\n",
       "</div>"
      ],
      "text/plain": [
       "  spending_range  avg_budget_per_student  average_math_score  \\\n",
       "0          <$585              581.000000           83.363065   \n",
       "1       $585-630              615.500000           79.982873   \n",
       "2       $630-645              639.500000           77.821056   \n",
       "3          >$645              652.333333           77.049297   \n",
       "\n",
       "   passing_math_percentage_in_range  passing_reading_percentage  \\\n",
       "0                         93.702889                   96.686558   \n",
       "1                         79.109851                   88.513145   \n",
       "2                         70.623565                   82.600247   \n",
       "3                         66.230813                   81.109397   \n",
       "\n",
       "   overall_passing_rate  \n",
       "0             95.194724  \n",
       "1             83.811498  \n",
       "2             76.611906  \n",
       "3             73.670105  "
      ]
     },
     "metadata": {},
     "output_type": "display_data"
    }
   ],
   "source": [
    "# Calculate the percentage overall passing rate in each spending range\n",
    "\n",
    "# Group by spending_range to calculate average math and reading scores\n",
    "average_scores = merged_data.groupby('spending_range').agg(\n",
    "    average_math_score=('math_score', 'mean'),\n",
    "    average_reading_score=('reading_score', 'mean')\n",
    ").reset_index()\n",
    "\n",
    "\n",
    "# Calculate the passing rates as percentages for math and reading\n",
    "passing_rates = merged_data.groupby('spending_range').agg(\n",
    "    passing_math_percentage=('passing_math', 'mean'),\n",
    "    passing_reading_percentage=('passing_reading', 'mean')\n",
    ").reset_index()\n",
    "\n",
    "# Convert passing rates from proportion to percentage\n",
    "passing_rates['passing_math_percentage'] *= 100\n",
    "passing_rates['passing_reading_percentage'] *= 100\n",
    "\n",
    "# Merge the average scores and passing rates\n",
    "performance_summary = pd.merge(average_scores, passing_rates, on='spending_range')\n",
    "\n",
    "# Calculate the overall passing rate as the average of math and reading passing rates\n",
    "performance_summary['overall_passing_rate'] = (\n",
    "    (performance_summary['passing_math_percentage'] + performance_summary['passing_reading_percentage']) / 2\n",
    ")\n",
    "\n",
    "# Calculate average spending per student (avg_budget_per_student) for each spending range\n",
    "avg_budget_per_student = school_data.groupby('spending_range')['spending_per_student'].mean().reset_index(name='avg_budget_per_student')\n",
    "\n",
    "# Merge the performance summary with the average budget per student\n",
    "final_grouped_data = pd.merge(performance_summary, avg_budget_per_student, on='spending_range', how='left')\n",
    "\n",
    "# Calculate passing rates for math\n",
    "merged_data['passing_math'] = merged_data['math_score'] >= 70\n",
    "passing_math_rate = merged_data.groupby('spending_range').agg(\n",
    "    total_students=('math_score', 'count'),\n",
    "    passing_students=('passing_math', 'sum')\n",
    ").reset_index()\n",
    "\n",
    "passing_math_rate['passing_math_percentage_in_range'] = (passing_math_rate['passing_students'] / passing_math_rate['total_students']) * 100\n",
    "\n",
    "# Merge passing math rate back into the final data\n",
    "final_grouped_data = pd.merge(final_grouped_data, passing_math_rate[['spending_range', 'passing_math_percentage_in_range']], \n",
    "                              on='spending_range', how='left')\n",
    "\n",
    "# Display the final table with the aggregated results\n",
    "display(final_grouped_data[['spending_range', 'avg_budget_per_student', \n",
    "                            'average_math_score', 'passing_math_percentage_in_range', \n",
    "                            'passing_reading_percentage', 'overall_passing_rate']])"
   ]
  },
  {
   "cell_type": "markdown",
   "metadata": {},
   "source": [
    "### Scores by School Size"
   ]
  },
  {
   "cell_type": "markdown",
   "metadata": {},
   "source": [
    "* Perform the same operations as above, based on school size."
   ]
  },
  {
   "cell_type": "code",
   "execution_count": 745,
   "metadata": {},
   "outputs": [],
   "source": [
    "# Sample bins. Feel free to create your own bins.\n",
    "size_bins = [0, 1000, 2000, 5000]\n",
    "group_names = [\"Small (<1000)\", \"Medium (1000-2000)\", \"Large (2000-5000)\"]"
   ]
  },
  {
   "cell_type": "code",
   "execution_count": 747,
   "metadata": {
    "scrolled": true
   },
   "outputs": [
    {
     "name": "stderr",
     "output_type": "stream",
     "text": [
      "/var/folders/bb/qxcf7b0d1zzbx6vt008mk2r00000gn/T/ipykernel_87099/3884248290.py:5: FutureWarning: The default of observed=False is deprecated and will be changed to True in a future version of pandas. Pass observed=False to retain current behavior or observed=True to adopt the future default and silence this warning.\n",
      "  display(school_data.groupby('size_range').size().reset_index(name='school_count'))\n"
     ]
    },
    {
     "data": {
      "text/html": [
       "<div>\n",
       "<style scoped>\n",
       "    .dataframe tbody tr th:only-of-type {\n",
       "        vertical-align: middle;\n",
       "    }\n",
       "\n",
       "    .dataframe tbody tr th {\n",
       "        vertical-align: top;\n",
       "    }\n",
       "\n",
       "    .dataframe thead th {\n",
       "        text-align: right;\n",
       "    }\n",
       "</style>\n",
       "<table border=\"1\" class=\"dataframe\">\n",
       "  <thead>\n",
       "    <tr style=\"text-align: right;\">\n",
       "      <th></th>\n",
       "      <th>size_range</th>\n",
       "      <th>school_count</th>\n",
       "    </tr>\n",
       "  </thead>\n",
       "  <tbody>\n",
       "    <tr>\n",
       "      <th>0</th>\n",
       "      <td>Small (&lt;1000)</td>\n",
       "      <td>2</td>\n",
       "    </tr>\n",
       "    <tr>\n",
       "      <th>1</th>\n",
       "      <td>Medium (1000-2000)</td>\n",
       "      <td>5</td>\n",
       "    </tr>\n",
       "    <tr>\n",
       "      <th>2</th>\n",
       "      <td>Large (2000-5000)</td>\n",
       "      <td>8</td>\n",
       "    </tr>\n",
       "  </tbody>\n",
       "</table>\n",
       "</div>"
      ],
      "text/plain": [
       "           size_range  school_count\n",
       "0       Small (<1000)             2\n",
       "1  Medium (1000-2000)             5\n",
       "2   Large (2000-5000)             8"
      ]
     },
     "metadata": {},
     "output_type": "display_data"
    }
   ],
   "source": [
    "# Create a new column for the bin groups\n",
    "school_data['size_range'] = pd.cut(school_data['size'], bins=size_bins, labels=group_names)\n",
    "\n",
    "# Print the updated table to verify the new column\n",
    "display(school_data.groupby('size_range').size().reset_index(name='school_count'))"
   ]
  },
  {
   "cell_type": "markdown",
   "metadata": {},
   "source": [
    "Look for the total count of test scores that pass 70% or higher\n",
    "\n",
    "\n"
   ]
  },
  {
   "cell_type": "code",
   "execution_count": 750,
   "metadata": {},
   "outputs": [
    {
     "name": "stderr",
     "output_type": "stream",
     "text": [
      "/var/folders/bb/qxcf7b0d1zzbx6vt008mk2r00000gn/T/ipykernel_87099/3240505658.py:19: FutureWarning: The default of observed=False is deprecated and will be changed to True in a future version of pandas. Pass observed=False to retain current behavior or observed=True to adopt the future default and silence this warning.\n",
      "  grouped_by_size_range = final_data.groupby('size_range')['passing_math_counts'].sum().reset_index()\n"
     ]
    },
    {
     "data": {
      "text/html": [
       "<div>\n",
       "<style scoped>\n",
       "    .dataframe tbody tr th:only-of-type {\n",
       "        vertical-align: middle;\n",
       "    }\n",
       "\n",
       "    .dataframe tbody tr th {\n",
       "        vertical-align: top;\n",
       "    }\n",
       "\n",
       "    .dataframe thead th {\n",
       "        text-align: right;\n",
       "    }\n",
       "</style>\n",
       "<table border=\"1\" class=\"dataframe\">\n",
       "  <thead>\n",
       "    <tr style=\"text-align: right;\">\n",
       "      <th></th>\n",
       "      <th>size_range</th>\n",
       "      <th>passing_math_counts</th>\n",
       "    </tr>\n",
       "  </thead>\n",
       "  <tbody>\n",
       "    <tr>\n",
       "      <th>0</th>\n",
       "      <td>Small (&lt;1000)</td>\n",
       "      <td>1305</td>\n",
       "    </tr>\n",
       "    <tr>\n",
       "      <th>1</th>\n",
       "      <td>Medium (1000-2000)</td>\n",
       "      <td>7978</td>\n",
       "    </tr>\n",
       "    <tr>\n",
       "      <th>2</th>\n",
       "      <td>Large (2000-5000)</td>\n",
       "      <td>20087</td>\n",
       "    </tr>\n",
       "  </tbody>\n",
       "</table>\n",
       "</div>"
      ],
      "text/plain": [
       "           size_range  passing_math_counts\n",
       "0       Small (<1000)                 1305\n",
       "1  Medium (1000-2000)                 7978\n",
       "2   Large (2000-5000)                20087"
      ]
     },
     "metadata": {},
     "output_type": "display_data"
    }
   ],
   "source": [
    "# math_pass_size\n",
    "\n",
    "# Merge school_data and student_data on 'school_name'\n",
    "merged_data = pd.merge(school_data, student_data, on='school_name')\n",
    "\n",
    "# Create the 'size_range' column based on school size in the merged data\n",
    "merged_data['size_range'] = pd.cut(merged_data['size'], bins=size_bins, labels=group_names)\n",
    "\n",
    "# Create a new column 'math_pass_size' where 1 represents passing (math_score >= 70) and 0 represents failing\n",
    "merged_data['math_pass_size'] = merged_data['math_score'] >= 70\n",
    "\n",
    "# Count the total number of passing math scores for each school\n",
    "passing_math_counts = merged_data.groupby('school_name')['math_pass_size'].sum().reset_index(name='passing_math_counts')\n",
    "\n",
    "# Merge passing math counts with the size_range data\n",
    "final_data = pd.merge(merged_data[['school_name', 'size_range']].drop_duplicates(), passing_math_counts, on='school_name')\n",
    "\n",
    "# Group by size_range to get the total passing math counts for each size range\n",
    "grouped_by_size_range = final_data.groupby('size_range')['passing_math_counts'].sum().reset_index()\n",
    "\n",
    "# Print the final grouped table\n",
    "display(grouped_by_size_range)\n"
   ]
  },
  {
   "cell_type": "code",
   "execution_count": 752,
   "metadata": {},
   "outputs": [
    {
     "name": "stderr",
     "output_type": "stream",
     "text": [
      "/var/folders/bb/qxcf7b0d1zzbx6vt008mk2r00000gn/T/ipykernel_87099/2885624341.py:19: FutureWarning: The default of observed=False is deprecated and will be changed to True in a future version of pandas. Pass observed=False to retain current behavior or observed=True to adopt the future default and silence this warning.\n",
      "  grouped_by_size_range = final_data.groupby('size_range')[['passing_math_counts', 'passing_read_counts']].sum().reset_index()\n"
     ]
    },
    {
     "data": {
      "text/html": [
       "<div>\n",
       "<style scoped>\n",
       "    .dataframe tbody tr th:only-of-type {\n",
       "        vertical-align: middle;\n",
       "    }\n",
       "\n",
       "    .dataframe tbody tr th {\n",
       "        vertical-align: top;\n",
       "    }\n",
       "\n",
       "    .dataframe thead th {\n",
       "        text-align: right;\n",
       "    }\n",
       "</style>\n",
       "<table border=\"1\" class=\"dataframe\">\n",
       "  <thead>\n",
       "    <tr style=\"text-align: right;\">\n",
       "      <th></th>\n",
       "      <th>size_range</th>\n",
       "      <th>passing_math_counts</th>\n",
       "      <th>passing_read_counts</th>\n",
       "    </tr>\n",
       "  </thead>\n",
       "  <tbody>\n",
       "    <tr>\n",
       "      <th>0</th>\n",
       "      <td>Small (&lt;1000)</td>\n",
       "      <td>1305</td>\n",
       "      <td>1334</td>\n",
       "    </tr>\n",
       "    <tr>\n",
       "      <th>1</th>\n",
       "      <td>Medium (1000-2000)</td>\n",
       "      <td>7978</td>\n",
       "      <td>8247</td>\n",
       "    </tr>\n",
       "    <tr>\n",
       "      <th>2</th>\n",
       "      <td>Large (2000-5000)</td>\n",
       "      <td>20087</td>\n",
       "      <td>24029</td>\n",
       "    </tr>\n",
       "  </tbody>\n",
       "</table>\n",
       "</div>"
      ],
      "text/plain": [
       "           size_range  passing_math_counts  passing_read_counts\n",
       "0       Small (<1000)                 1305                 1334\n",
       "1  Medium (1000-2000)                 7978                 8247\n",
       "2   Large (2000-5000)                20087                24029"
      ]
     },
     "metadata": {},
     "output_type": "display_data"
    }
   ],
   "source": [
    "# read_pass_size\n",
    "\n",
    "# Create the 'read_pass_size' column \n",
    "merged_data['read_pass_size'] = merged_data['reading_score'] >= 70\n",
    "\n",
    "# Count the total number of passing reading scores for each school\n",
    "passing_read_counts = merged_data.groupby('school_name')['read_pass_size'].sum().reset_index(name='passing_read_counts')\n",
    "\n",
    "# Count the total number of passing math scores for each school (assuming 'passing_math_counts' already exists)\n",
    "# If not, we can replicate the same logic as for reading scores.\n",
    "passing_math_counts = merged_data.groupby('school_name')['math_pass_size'].sum().reset_index(name='passing_math_counts')\n",
    "\n",
    "# Now, merge passing math and reading counts with the size_range data\n",
    "final_data = pd.merge(merged_data[['school_name', 'size_range']].drop_duplicates(), \n",
    "                       passing_math_counts, on='school_name')\n",
    "final_data = pd.merge(final_data, passing_read_counts, on='school_name')\n",
    "\n",
    "# Group by size_range to get the total passing math and reading counts for each size range\n",
    "grouped_by_size_range = final_data.groupby('size_range')[['passing_math_counts', 'passing_read_counts']].sum().reset_index()\n",
    "\n",
    "# Print the final grouped table\n",
    "display(grouped_by_size_range)"
   ]
  },
  {
   "cell_type": "code",
   "execution_count": 754,
   "metadata": {},
   "outputs": [
    {
     "name": "stderr",
     "output_type": "stream",
     "text": [
      "/var/folders/bb/qxcf7b0d1zzbx6vt008mk2r00000gn/T/ipykernel_87099/3687487584.py:4: FutureWarning: The default of observed=False is deprecated and will be changed to True in a future version of pandas. Pass observed=False to retain current behavior or observed=True to adopt the future default and silence this warning.\n",
      "  total_students_by_size = merged_data.groupby('size_range')['school_name'].count().reset_index(name='total_students')\n",
      "/var/folders/bb/qxcf7b0d1zzbx6vt008mk2r00000gn/T/ipykernel_87099/3687487584.py:7: FutureWarning: The default of observed=False is deprecated and will be changed to True in a future version of pandas. Pass observed=False to retain current behavior or observed=True to adopt the future default and silence this warning.\n",
      "  total_passing_by_size = merged_data.groupby('size_range').apply(\n",
      "/var/folders/bb/qxcf7b0d1zzbx6vt008mk2r00000gn/T/ipykernel_87099/3687487584.py:7: DeprecationWarning: DataFrameGroupBy.apply operated on the grouping columns. This behavior is deprecated, and in a future version of pandas the grouping columns will be excluded from the operation. Either pass `include_groups=False` to exclude the groupings or explicitly select the grouping columns after groupby to silence this warning.\n",
      "  total_passing_by_size = merged_data.groupby('size_range').apply(\n"
     ]
    },
    {
     "data": {
      "text/html": [
       "<div>\n",
       "<style scoped>\n",
       "    .dataframe tbody tr th:only-of-type {\n",
       "        vertical-align: middle;\n",
       "    }\n",
       "\n",
       "    .dataframe tbody tr th {\n",
       "        vertical-align: top;\n",
       "    }\n",
       "\n",
       "    .dataframe thead th {\n",
       "        text-align: right;\n",
       "    }\n",
       "</style>\n",
       "<table border=\"1\" class=\"dataframe\">\n",
       "  <thead>\n",
       "    <tr style=\"text-align: right;\">\n",
       "      <th></th>\n",
       "      <th>size_range</th>\n",
       "      <th>total_students</th>\n",
       "      <th>total_passing_students</th>\n",
       "      <th>overall_passing_rate</th>\n",
       "    </tr>\n",
       "  </thead>\n",
       "  <tbody>\n",
       "    <tr>\n",
       "      <th>0</th>\n",
       "      <td>Small (&lt;1000)</td>\n",
       "      <td>1389</td>\n",
       "      <td>1387</td>\n",
       "      <td>99.856012</td>\n",
       "    </tr>\n",
       "    <tr>\n",
       "      <th>1</th>\n",
       "      <td>Medium (1000-2000)</td>\n",
       "      <td>8522</td>\n",
       "      <td>8502</td>\n",
       "      <td>99.765313</td>\n",
       "    </tr>\n",
       "    <tr>\n",
       "      <th>2</th>\n",
       "      <td>Large (2000-5000)</td>\n",
       "      <td>29259</td>\n",
       "      <td>27563</td>\n",
       "      <td>94.203493</td>\n",
       "    </tr>\n",
       "  </tbody>\n",
       "</table>\n",
       "</div>"
      ],
      "text/plain": [
       "           size_range  total_students  total_passing_students  \\\n",
       "0       Small (<1000)            1389                    1387   \n",
       "1  Medium (1000-2000)            8522                    8502   \n",
       "2   Large (2000-5000)           29259                   27563   \n",
       "\n",
       "   overall_passing_rate  \n",
       "0             99.856012  \n",
       "1             99.765313  \n",
       "2             94.203493  "
      ]
     },
     "metadata": {},
     "output_type": "display_data"
    }
   ],
   "source": [
    "# Calculate the overall passing rate for different school size\n",
    "\n",
    "#Calculate the total number of students in each school size range\n",
    "total_students_by_size = merged_data.groupby('size_range')['school_name'].count().reset_index(name='total_students')\n",
    "\n",
    "# Calculate the total number of passing students (both math and reading) in each school\n",
    "total_passing_by_size = merged_data.groupby('size_range').apply(\n",
    "    lambda x: (x['math_pass_size'] + x['read_pass_size']).sum()).reset_index(name='total_passing_students')\n",
    "\n",
    "# Merge the passing student counts with the total students for each size range\n",
    "passing_rate_data = pd.merge(total_students_by_size, total_passing_by_size, on='size_range')\n",
    "\n",
    "# Calculate the overall passing rate for each size range\n",
    "passing_rate_data['overall_passing_rate'] = passing_rate_data['total_passing_students'] / passing_rate_data['total_students'] * 100\n",
    "\n",
    "# Print the final data\n",
    "display(passing_rate_data)\n",
    "\n"
   ]
  },
  {
   "cell_type": "markdown",
   "metadata": {},
   "source": [
    "### Scores by School Type"
   ]
  },
  {
   "cell_type": "markdown",
   "metadata": {},
   "source": [
    "* Perform the same operations as above, based on school type."
   ]
  },
  {
   "cell_type": "code",
   "execution_count": 758,
   "metadata": {},
   "outputs": [
    {
     "name": "stderr",
     "output_type": "stream",
     "text": [
      "/var/folders/bb/qxcf7b0d1zzbx6vt008mk2r00000gn/T/ipykernel_87099/2870053191.py:9: FutureWarning: The default of observed=False is deprecated and will be changed to True in a future version of pandas. Pass observed=False to retain current behavior or observed=True to adopt the future default and silence this warning.\n",
      "  display(school_data.groupby('school_type').size().reset_index(name='school_count'))\n"
     ]
    },
    {
     "data": {
      "text/html": [
       "<div>\n",
       "<style scoped>\n",
       "    .dataframe tbody tr th:only-of-type {\n",
       "        vertical-align: middle;\n",
       "    }\n",
       "\n",
       "    .dataframe tbody tr th {\n",
       "        vertical-align: top;\n",
       "    }\n",
       "\n",
       "    .dataframe thead th {\n",
       "        text-align: right;\n",
       "    }\n",
       "</style>\n",
       "<table border=\"1\" class=\"dataframe\">\n",
       "  <thead>\n",
       "    <tr style=\"text-align: right;\">\n",
       "      <th></th>\n",
       "      <th>school_type</th>\n",
       "      <th>school_count</th>\n",
       "    </tr>\n",
       "  </thead>\n",
       "  <tbody>\n",
       "    <tr>\n",
       "      <th>0</th>\n",
       "      <td>Charter</td>\n",
       "      <td>8</td>\n",
       "    </tr>\n",
       "    <tr>\n",
       "      <th>1</th>\n",
       "      <td>District</td>\n",
       "      <td>7</td>\n",
       "    </tr>\n",
       "  </tbody>\n",
       "</table>\n",
       "</div>"
      ],
      "text/plain": [
       "  school_type  school_count\n",
       "0     Charter             8\n",
       "1    District             7"
      ]
     },
     "metadata": {},
     "output_type": "display_data"
    }
   ],
   "source": [
    "# Create bins and groups, school type {'Charter', 'District'}\n",
    "type_bins = [0, 2300, float('inf')]\n",
    "group_names = [\"Charter\", \"District\"]\n",
    "\n",
    "# Create a new column for the bin groups\n",
    "school_data['school_type'] = pd.cut(school_data['size'], bins=type_bins, labels=group_names)\n",
    "\n",
    "# Print the updated table to verify the new column\n",
    "display(school_data.groupby('school_type').size().reset_index(name='school_count'))"
   ]
  },
  {
   "cell_type": "markdown",
   "metadata": {},
   "source": [
    "Find counts of the passing 70 or higher score for the both test\n"
   ]
  },
  {
   "cell_type": "code",
   "execution_count": 761,
   "metadata": {},
   "outputs": [
    {
     "name": "stderr",
     "output_type": "stream",
     "text": [
      "/var/folders/bb/qxcf7b0d1zzbx6vt008mk2r00000gn/T/ipykernel_87099/3426770494.py:19: FutureWarning: The default of observed=False is deprecated and will be changed to True in a future version of pandas. Pass observed=False to retain current behavior or observed=True to adopt the future default and silence this warning.\n",
      "  grouped_by_size_range = final_data.groupby('school_type')['passing_math_counts'].sum().reset_index()\n"
     ]
    },
    {
     "data": {
      "text/html": [
       "<div>\n",
       "<style scoped>\n",
       "    .dataframe tbody tr th:only-of-type {\n",
       "        vertical-align: middle;\n",
       "    }\n",
       "\n",
       "    .dataframe tbody tr th {\n",
       "        vertical-align: top;\n",
       "    }\n",
       "\n",
       "    .dataframe thead th {\n",
       "        text-align: right;\n",
       "    }\n",
       "</style>\n",
       "<table border=\"1\" class=\"dataframe\">\n",
       "  <thead>\n",
       "    <tr style=\"text-align: right;\">\n",
       "      <th></th>\n",
       "      <th>school_type</th>\n",
       "      <th>passing_math_counts</th>\n",
       "    </tr>\n",
       "  </thead>\n",
       "  <tbody>\n",
       "    <tr>\n",
       "      <th>0</th>\n",
       "      <td>Charter</td>\n",
       "      <td>11426</td>\n",
       "    </tr>\n",
       "    <tr>\n",
       "      <th>1</th>\n",
       "      <td>District</td>\n",
       "      <td>17944</td>\n",
       "    </tr>\n",
       "  </tbody>\n",
       "</table>\n",
       "</div>"
      ],
      "text/plain": [
       "  school_type  passing_math_counts\n",
       "0     Charter                11426\n",
       "1    District                17944"
      ]
     },
     "metadata": {},
     "output_type": "display_data"
    }
   ],
   "source": [
    "# math pass size\n",
    "\n",
    "# Merge school_data and student_data on 'school_name'\n",
    "merged_data = pd.merge(school_data, student_data, on='school_name')\n",
    "\n",
    "# Create the 'size_range' column based on school size in the merged data\n",
    "merged_data['school_type'] = pd.cut(merged_data['size'], bins=type_bins, labels=group_names)\n",
    "\n",
    "# Create a new column 'math_pass_size' where 1 represents passing (math_score >= 70) and 0 represents failing\n",
    "merged_data['math_pass_size'] = merged_data['math_score'] >= 70\n",
    "\n",
    "# Count the total number of passing math scores for each school\n",
    "passing_math_counts = merged_data.groupby('school_name')['math_pass_size'].sum().reset_index(name='passing_math_counts')\n",
    "\n",
    "# Merge passing math counts with the size_range data\n",
    "final_data = pd.merge(merged_data[['school_name', 'school_type']].drop_duplicates(), passing_math_counts, on='school_name')\n",
    "\n",
    "# Group by size_range to get the total passing math counts for each size range\n",
    "grouped_by_size_range = final_data.groupby('school_type')['passing_math_counts'].sum().reset_index()\n",
    "\n",
    "# Print the final grouped table\n",
    "display(grouped_by_size_range)\n",
    "\n"
   ]
  },
  {
   "cell_type": "code",
   "execution_count": 763,
   "metadata": {},
   "outputs": [
    {
     "name": "stderr",
     "output_type": "stream",
     "text": [
      "/var/folders/bb/qxcf7b0d1zzbx6vt008mk2r00000gn/T/ipykernel_87099/2836063247.py:18: FutureWarning: The default of observed=False is deprecated and will be changed to True in a future version of pandas. Pass observed=False to retain current behavior or observed=True to adopt the future default and silence this warning.\n",
      "  grouped_by_school_type = final_data.groupby('school_type')[['math_pass_size', 'read_pass_size']].sum().reset_index()\n"
     ]
    },
    {
     "data": {
      "text/html": [
       "<div>\n",
       "<style scoped>\n",
       "    .dataframe tbody tr th:only-of-type {\n",
       "        vertical-align: middle;\n",
       "    }\n",
       "\n",
       "    .dataframe tbody tr th {\n",
       "        vertical-align: top;\n",
       "    }\n",
       "\n",
       "    .dataframe thead th {\n",
       "        text-align: right;\n",
       "    }\n",
       "</style>\n",
       "<table border=\"1\" class=\"dataframe\">\n",
       "  <thead>\n",
       "    <tr style=\"text-align: right;\">\n",
       "      <th></th>\n",
       "      <th>school_type</th>\n",
       "      <th>math_pass_count</th>\n",
       "      <th>read_pass_count</th>\n",
       "    </tr>\n",
       "  </thead>\n",
       "  <tbody>\n",
       "    <tr>\n",
       "      <th>0</th>\n",
       "      <td>Charter</td>\n",
       "      <td>11426</td>\n",
       "      <td>11785</td>\n",
       "    </tr>\n",
       "    <tr>\n",
       "      <th>1</th>\n",
       "      <td>District</td>\n",
       "      <td>17944</td>\n",
       "      <td>21825</td>\n",
       "    </tr>\n",
       "  </tbody>\n",
       "</table>\n",
       "</div>"
      ],
      "text/plain": [
       "  school_type  math_pass_count  read_pass_count\n",
       "0     Charter            11426            11785\n",
       "1    District            17944            21825"
      ]
     },
     "metadata": {},
     "output_type": "display_data"
    }
   ],
   "source": [
    "# Merge school_data and student_data on 'school_name'\n",
    "merged_data = pd.merge(school_data, student_data, on='school_name')\n",
    "\n",
    "# Create the 'school_type' column based on the new bins\n",
    "merged_data['school_type'] = pd.cut(merged_data['size'], bins=type_bins, labels=group_names)\n",
    "\n",
    "# Create columns to represent passing scores (1 for pass, 0 for fail)\n",
    "merged_data['math_pass_size'] = merged_data['math_score'] >= 70\n",
    "merged_data['read_pass_size'] = merged_data['reading_score'] >= 70\n",
    "\n",
    "# Count the total number of passing math and reading scores for each school\n",
    "passing_counts = merged_data.groupby('school_name')[['math_pass_size', 'read_pass_size']].sum().reset_index()\n",
    "\n",
    "# Merge passing counts with the school_type data\n",
    "final_data = pd.merge(merged_data[['school_name', 'school_type']].drop_duplicates(), passing_counts, on='school_name')\n",
    "\n",
    "# Group by school_type to get the total passing counts for both subjects\n",
    "grouped_by_school_type = final_data.groupby('school_type')[['math_pass_size', 'read_pass_size']].sum().reset_index()\n",
    "\n",
    "# Rename columns for clarity\n",
    "grouped_by_school_type.rename(columns={'math_pass_size': 'math_pass_count', 'read_pass_size': 'read_pass_count'}, inplace=True)\n",
    "\n",
    "# Print the final grouped table\n",
    "display(grouped_by_school_type)\n"
   ]
  },
  {
   "cell_type": "code",
   "execution_count": 765,
   "metadata": {},
   "outputs": [
    {
     "name": "stderr",
     "output_type": "stream",
     "text": [
      "/var/folders/bb/qxcf7b0d1zzbx6vt008mk2r00000gn/T/ipykernel_87099/4250654758.py:6: FutureWarning: The default of observed=False is deprecated and will be changed to True in a future version of pandas. Pass observed=False to retain current behavior or observed=True to adopt the future default and silence this warning.\n",
      "  total_students_by_type = merged_data.groupby('school_type')['Student ID'].count().reset_index(name='total_students')\n",
      "/var/folders/bb/qxcf7b0d1zzbx6vt008mk2r00000gn/T/ipykernel_87099/4250654758.py:9: FutureWarning: The default of observed=False is deprecated and will be changed to True in a future version of pandas. Pass observed=False to retain current behavior or observed=True to adopt the future default and silence this warning.\n",
      "  total_passing_by_type = merged_data.groupby('school_type').apply(\n",
      "/var/folders/bb/qxcf7b0d1zzbx6vt008mk2r00000gn/T/ipykernel_87099/4250654758.py:9: DeprecationWarning: DataFrameGroupBy.apply operated on the grouping columns. This behavior is deprecated, and in a future version of pandas the grouping columns will be excluded from the operation. Either pass `include_groups=False` to exclude the groupings or explicitly select the grouping columns after groupby to silence this warning.\n",
      "  total_passing_by_type = merged_data.groupby('school_type').apply(\n"
     ]
    },
    {
     "data": {
      "text/html": [
       "<div>\n",
       "<style scoped>\n",
       "    .dataframe tbody tr th:only-of-type {\n",
       "        vertical-align: middle;\n",
       "    }\n",
       "\n",
       "    .dataframe tbody tr th {\n",
       "        vertical-align: top;\n",
       "    }\n",
       "\n",
       "    .dataframe thead th {\n",
       "        text-align: right;\n",
       "    }\n",
       "</style>\n",
       "<table border=\"1\" class=\"dataframe\">\n",
       "  <thead>\n",
       "    <tr style=\"text-align: right;\">\n",
       "      <th></th>\n",
       "      <th>school_type</th>\n",
       "      <th>total_students</th>\n",
       "      <th>total_passing_students</th>\n",
       "      <th>overall_passing_rate</th>\n",
       "    </tr>\n",
       "  </thead>\n",
       "  <tbody>\n",
       "    <tr>\n",
       "      <th>0</th>\n",
       "      <td>Charter</td>\n",
       "      <td>12194</td>\n",
       "      <td>12168</td>\n",
       "      <td>99.786780</td>\n",
       "    </tr>\n",
       "    <tr>\n",
       "      <th>1</th>\n",
       "      <td>District</td>\n",
       "      <td>26976</td>\n",
       "      <td>25284</td>\n",
       "      <td>93.727758</td>\n",
       "    </tr>\n",
       "  </tbody>\n",
       "</table>\n",
       "</div>"
      ],
      "text/plain": [
       "  school_type  total_students  total_passing_students  overall_passing_rate\n",
       "0     Charter           12194                   12168             99.786780\n",
       "1    District           26976                   25284             93.727758"
      ]
     },
     "metadata": {},
     "output_type": "display_data"
    }
   ],
   "source": [
    "# Calculate the overall passing rate\n",
    "\n",
    "# Calculate the overall passing rate for different school size\n",
    "\n",
    "#Calculate the total number of students in each school size range\n",
    "total_students_by_type = merged_data.groupby('school_type')['Student ID'].count().reset_index(name='total_students')\n",
    "\n",
    "# Calculate the total number of passing students (both math and reading) in each school\n",
    "total_passing_by_type = merged_data.groupby('school_type').apply(\n",
    "    lambda x: (x['math_pass_size'] + x['read_pass_size']).sum()).reset_index(name='total_passing_students')\n",
    "\n",
    "# Merge the passing student counts with the total students for each size range\n",
    "passing_rate_data = pd.merge(total_students_by_type, total_passing_by_type, on='school_type')\n",
    "\n",
    "# Calculate the overall passing rate for each size range\n",
    "passing_rate_data['overall_passing_rate'] = passing_rate_data['total_passing_students'] / passing_rate_data['total_students'] * 100\n",
    "\n",
    "# Print the final data\n",
    "display(passing_rate_data)"
   ]
  },
  {
   "cell_type": "code",
   "execution_count": null,
   "metadata": {},
   "outputs": [],
   "source": []
  }
 ],
 "metadata": {
  "anaconda-cloud": {},
  "kernel_info": {
   "name": "python3"
  },
  "kernelspec": {
   "display_name": "Python 3 (ipykernel)",
   "language": "python",
   "name": "python3"
  },
  "language_info": {
   "codemirror_mode": {
    "name": "ipython",
    "version": 3
   },
   "file_extension": ".py",
   "mimetype": "text/x-python",
   "name": "python",
   "nbconvert_exporter": "python",
   "pygments_lexer": "ipython3",
   "version": "3.12.4"
  },
  "latex_envs": {
   "LaTeX_envs_menu_present": true,
   "autoclose": false,
   "autocomplete": true,
   "bibliofile": "biblio.bib",
   "cite_by": "apalike",
   "current_citInitial": 1,
   "eqLabelWithNumbers": true,
   "eqNumInitial": 1,
   "hotkeys": {
    "equation": "Ctrl-E",
    "itemize": "Ctrl-I"
   },
   "labels_anchors": false,
   "latex_user_defs": false,
   "report_style_numbering": false,
   "user_envs_cfg": false
  },
  "nteract": {
   "version": "0.8.4"
  },
  "toc": {
   "base_numbering": 1,
   "nav_menu": {},
   "number_sections": true,
   "sideBar": true,
   "skip_h1_title": false,
   "title_cell": "Table of Contents",
   "title_sidebar": "Contents",
   "toc_cell": false,
   "toc_position": {},
   "toc_section_display": true,
   "toc_window_display": false
  }
 },
 "nbformat": 4,
 "nbformat_minor": 4
}
