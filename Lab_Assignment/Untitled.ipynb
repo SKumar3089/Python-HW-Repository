{
 "cells": [
  {
   "cell_type": "code",
   "execution_count": 13,
   "id": "3bb7f6ae-dfd9-46e7-9f77-b2c81a758eb2",
   "metadata": {},
   "outputs": [
    {
     "name": "stdout",
     "output_type": "stream",
     "text": [
      "{'name': 'John', 'main': 'rice', 'protein': 'ginger chicken', 'side1': 'seaweed'}\n",
      "{'name': 'Jane', 'main': 'noodles', 'protein': 'salmon', 'side1': 'miso soup'}\n",
      "{'name': 'Tom', 'main': 'salad', 'protein': 'tofu', 'side1': 'cucumber salad'}\n"
     ]
    }
   ],
   "source": [
    "# Creating a list of dictionaries\n",
    "list_of_orders = [\n",
    "    {'name': 'John', 'main': 'rice', 'protein': 'ginger chicken','side1': 'seaweed'},\n",
    "    {'name': 'Jane', 'main': 'noodles', 'protein': 'salmon','side1': 'miso soup'},\n",
    "    {'name': 'Tom', 'main': 'salad', 'protein': 'tofu','side1': 'cucumber salad'}\n",
    "]\n",
    "\n",
    "# Printing the list of dictionaries\n",
    "for person in list_of_orders:\n",
    "    print(person)"
   ]
  },
  {
   "cell_type": "code",
   "execution_count": 3,
   "id": "555ef6e3-a762-4941-b2fd-a3d58660d25f",
   "metadata": {},
   "outputs": [
    {
     "name": "stdout",
     "output_type": "stream",
     "text": [
      "[{'name': 'John', 'age': 25, 'city': 'New York'}, {'name': 'Jane', 'age': 30, 'city': 'Los Angeles'}, {'name': 'Tom', 'age': 22, 'city': 'Chicago'}]\n"
     ]
    }
   ],
   "source": [
    "print(list_of_dicts)"
   ]
  },
  {
   "cell_type": "code",
   "execution_count": 11,
   "id": "8134c2a0-6e9c-4f65-a03f-99cad2a216cb",
   "metadata": {},
   "outputs": [
    {
     "name": "stdout",
     "output_type": "stream",
     "text": [
      "{'name': ('John', ('Jane', 'Don')), 'age': ('25', ('32', '22')), 'city': ('New York', ('Austin', 'Boston'))}\n"
     ]
    }
   ],
   "source": [
    "# Three lists\n",
    "keys = ['name', 'age', 'city']\n",
    "values = ['John', '25', 'New York']\n",
    "extra_info = ['Jane', '32', 'Austin']\n",
    "extra_info2 = ['Don', '22', 'Boston']\n",
    "\n",
    "\n",
    "# Creating a dictionary using zip with three lists\n",
    "my_dict = dict(zip(keys, zip(values, zip(extra_info,extra_info2))))\n",
    "\n",
    "# Printing the dictionary\n",
    "print(my_dict)"
   ]
  },
  {
   "cell_type": "code",
   "execution_count": null,
   "id": "14db3d95-5be2-4bee-a91b-41bfeb186d70",
   "metadata": {},
   "outputs": [],
   "source": []
  }
 ],
 "metadata": {
  "kernelspec": {
   "display_name": "Python 3 (ipykernel)",
   "language": "python",
   "name": "python3"
  },
  "language_info": {
   "codemirror_mode": {
    "name": "ipython",
    "version": 3
   },
   "file_extension": ".py",
   "mimetype": "text/x-python",
   "name": "python",
   "nbconvert_exporter": "python",
   "pygments_lexer": "ipython3",
   "version": "3.12.4"
  }
 },
 "nbformat": 4,
 "nbformat_minor": 5
}
